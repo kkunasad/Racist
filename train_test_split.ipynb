{
 "cells": [
  {
   "cell_type": "code",
   "execution_count": 2,
   "metadata": {},
   "outputs": [],
   "source": [
    "import numpy as np\n",
    "import tensorflow as tf\n",
    "import pickle as pkl"
   ]
  },
  {
   "cell_type": "code",
   "execution_count": 4,
   "metadata": {},
   "outputs": [],
   "source": [
    "#train image load\n",
    "ctz_img = np.load('./test_set/train_citizen/img_path.npy')\n",
    "mgs_img = np.load('./test_set/train_mugshot/img_path.npy')"
   ]
  },
  {
   "cell_type": "code",
   "execution_count": 5,
   "metadata": {},
   "outputs": [],
   "source": [
    "import random\n",
    "\n",
    "ctz_idx = random.sample([i for i in range(ctz_img.shape[0])], 3500)\n",
    "msg_idx = random.sample([i for i in range(mgs_img.shape[0])], 3500)"
   ]
  },
  {
   "cell_type": "code",
   "execution_count": 6,
   "metadata": {},
   "outputs": [
    {
     "data": {
      "text/plain": [
       "(7000, 200, 200, 3)"
      ]
     },
     "execution_count": 6,
     "metadata": {},
     "output_type": "execute_result"
    }
   ],
   "source": [
    "ctz_img_selected = ctz_img[ctz_idx]\n",
    "mgs_img_selected = mgs_img[msg_idx]\n",
    "img_data = np.append(ctz_img_selected, mgs_img_selected, axis=0)\n",
    "img_data.shape"
   ]
  },
  {
   "cell_type": "code",
   "execution_count": 7,
   "metadata": {},
   "outputs": [
    {
     "data": {
      "text/plain": [
       "array([0., 0., 0., ..., 1., 1., 1.])"
      ]
     },
     "execution_count": 7,
     "metadata": {},
     "output_type": "execute_result"
    }
   ],
   "source": [
    "ctz_y = np.zeros(shape=ctz_img_selected.shape[0])\n",
    "mgs_y = np.ones(shape=mgs_img_selected.shape[0])\n",
    "label = np.append(ctz_y,mgs_y,axis=0)\n",
    "label"
   ]
  },
  {
   "cell_type": "code",
   "execution_count": 8,
   "metadata": {},
   "outputs": [
    {
     "data": {
      "text/plain": [
       "((7000, 200, 200, 3), (7000,))"
      ]
     },
     "execution_count": 8,
     "metadata": {},
     "output_type": "execute_result"
    }
   ],
   "source": [
    "img_data.shape, label.shape"
   ]
  },
  {
   "cell_type": "code",
   "execution_count": 9,
   "metadata": {},
   "outputs": [
    {
     "name": "stdout",
     "output_type": "stream",
     "text": [
      "1400 5600\n",
      "1120 4480\n"
     ]
    }
   ],
   "source": [
    "def shuffle(matrix, target, test_proportion):\n",
    "    test_num = int(matrix.shape[0] * test_proportion)\n",
    "    train_num = matrix.shape[0] - test_num\n",
    "    print(test_num, train_num)\n",
    "        \n",
    "    np.random.seed(34)\n",
    "    train_idx = np.random.choice(matrix.shape[0], train_num, replace=False)\n",
    "    test_idx = [idx for idx in range(matrix.shape[0]) if idx not in train_idx]\n",
    "    \n",
    "    X_train = matrix[train_idx]\n",
    "    X_test =  matrix[test_idx]\n",
    "    Y_train = target[train_idx]\n",
    "    Y_test =  target[test_idx,]\n",
    "    return X_train, X_test, Y_train, Y_test\n",
    "\n",
    "X_train, X_test, Y_train, Y_test = shuffle(img_data, label, 0.2)\n",
    "X_train, X_valid, Y_train, Y_valid = shuffle(X_train, Y_train, 0.2)"
   ]
  },
  {
   "cell_type": "code",
   "execution_count": 10,
   "metadata": {},
   "outputs": [
    {
     "data": {
      "text/plain": [
       "((4480, 200, 200, 3), (1400, 200, 200, 3), (1120, 200, 200, 3))"
      ]
     },
     "execution_count": 10,
     "metadata": {},
     "output_type": "execute_result"
    }
   ],
   "source": [
    "X_train.shape, X_test.shape, X_valid.shape"
   ]
  },
  {
   "cell_type": "code",
   "execution_count": 12,
   "metadata": {},
   "outputs": [],
   "source": [
    "np.save('./test_set/X_train.npy',X_train)\n",
    "np.save('./test_set/X_test.npy',X_test)\n",
    "np.save('./test_set/X_valid.npy',X_valid)"
   ]
  },
  {
   "cell_type": "code",
   "execution_count": 13,
   "metadata": {},
   "outputs": [],
   "source": [
    "np.save('./test_set/Y_train.npy',Y_train)\n",
    "np.save('./test_set/Y_test.npy',Y_test)\n",
    "np.save('./test_set/Y_valid.npy',Y_valid)"
   ]
  }
 ],
 "metadata": {
  "kernelspec": {
   "display_name": "Python 3",
   "language": "python",
   "name": "python3"
  },
  "language_info": {
   "codemirror_mode": {
    "name": "ipython",
    "version": 3
   },
   "file_extension": ".py",
   "mimetype": "text/x-python",
   "name": "python",
   "nbconvert_exporter": "python",
   "pygments_lexer": "ipython3",
   "version": "3.7.8"
  }
 },
 "nbformat": 4,
 "nbformat_minor": 4
}
