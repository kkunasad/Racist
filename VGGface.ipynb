{
 "cells": [
  {
   "cell_type": "markdown",
   "metadata": {},
   "source": [
    "# 1. Load Train Image"
   ]
  },
  {
   "cell_type": "code",
   "execution_count": 2,
   "metadata": {},
   "outputs": [],
   "source": [
    "import numpy as np\n",
    "import tensorflow as tf"
   ]
  },
  {
   "cell_type": "code",
   "execution_count": 5,
   "metadata": {},
   "outputs": [
    {
     "name": "stdout",
     "output_type": "stream",
     "text": [
      "Device mapping:\n",
      "/job:localhost/replica:0/task:0/device:XLA_CPU:0 -> device: XLA_CPU device\n",
      "/job:localhost/replica:0/task:0/device:XLA_GPU:0 -> device: XLA_GPU device\n",
      "\n"
     ]
    }
   ],
   "source": [
    "import os\n",
    "\n",
    "os.environ[\"CUDA_DEVICE_ORDER\"] = \"PCI_BUS_ID\"\n",
    "os.environ[\"CUDA_VISIBLE_DEVICES\"] = '0' #GPU_ID from earlier\n",
    "\n",
    "config = tf.compat.v1.ConfigProto(log_device_placement=True)\n",
    "sess = tf.compat.v1.Session(config=config)\n",
    "\n",
    "config.gpu_options.per_process_gpu_memory_fraction = 0.85"
   ]
  },
  {
   "cell_type": "code",
   "execution_count": 3,
   "metadata": {},
   "outputs": [],
   "source": [
    "X_train = np.load('./test_set/X_train.npy')\n",
    "X_test = np.load('./test_set/X_test.npy')\n",
    "X_valid = np.load('./test_set/X_valid.npy')"
   ]
  },
  {
   "cell_type": "code",
   "execution_count": 4,
   "metadata": {},
   "outputs": [],
   "source": [
    "Y_train = np.load('./test_set/Y_train.npy')\n",
    "Y_test = np.load('./test_set/Y_test.npy')\n",
    "Y_valid = np.load('./test_set/Y_valid.npy')"
   ]
  },
  {
   "cell_type": "markdown",
   "metadata": {},
   "source": [
    "# 2. Train VGGFace"
   ]
  },
  {
   "cell_type": "code",
   "execution_count": 3,
   "metadata": {},
   "outputs": [],
   "source": [
    "from keras_vggface.vggface import VGGFace"
   ]
  },
  {
   "cell_type": "code",
   "execution_count": 5,
   "metadata": {},
   "outputs": [],
   "source": [
    "vggface = VGGFace(model='vgg16', include_top=False, input_shape=(200, 200, 3), pooling='avg')"
   ]
  },
  {
   "cell_type": "code",
   "execution_count": 6,
   "metadata": {},
   "outputs": [],
   "source": [
    "# make all pretrained weights stop update\n",
    "for layer in vggface.layers:\n",
    "    layer.trainable = False"
   ]
  },
  {
   "cell_type": "code",
   "execution_count": 4,
   "metadata": {
    "scrolled": true
   },
   "outputs": [
    {
     "name": "stdout",
     "output_type": "stream",
     "text": [
      "Model: \"vggface_vgg16\"\n",
      "_________________________________________________________________\n",
      "Layer (type)                 Output Shape              Param #   \n",
      "=================================================================\n",
      "input_1 (InputLayer)         [(None, 200, 200, 3)]     0         \n",
      "_________________________________________________________________\n",
      "conv1_1 (Conv2D)             (None, 200, 200, 64)      1792      \n",
      "_________________________________________________________________\n",
      "conv1_2 (Conv2D)             (None, 200, 200, 64)      36928     \n",
      "_________________________________________________________________\n",
      "pool1 (MaxPooling2D)         (None, 100, 100, 64)      0         \n",
      "_________________________________________________________________\n",
      "conv2_1 (Conv2D)             (None, 100, 100, 128)     73856     \n",
      "_________________________________________________________________\n",
      "conv2_2 (Conv2D)             (None, 100, 100, 128)     147584    \n",
      "_________________________________________________________________\n",
      "pool2 (MaxPooling2D)         (None, 50, 50, 128)       0         \n",
      "_________________________________________________________________\n",
      "conv3_1 (Conv2D)             (None, 50, 50, 256)       295168    \n",
      "_________________________________________________________________\n",
      "conv3_2 (Conv2D)             (None, 50, 50, 256)       590080    \n",
      "_________________________________________________________________\n",
      "conv3_3 (Conv2D)             (None, 50, 50, 256)       590080    \n",
      "_________________________________________________________________\n",
      "pool3 (MaxPooling2D)         (None, 25, 25, 256)       0         \n",
      "_________________________________________________________________\n",
      "conv4_1 (Conv2D)             (None, 25, 25, 512)       1180160   \n",
      "_________________________________________________________________\n",
      "conv4_2 (Conv2D)             (None, 25, 25, 512)       2359808   \n",
      "_________________________________________________________________\n",
      "conv4_3 (Conv2D)             (None, 25, 25, 512)       2359808   \n",
      "_________________________________________________________________\n",
      "pool4 (MaxPooling2D)         (None, 12, 12, 512)       0         \n",
      "_________________________________________________________________\n",
      "conv5_1 (Conv2D)             (None, 12, 12, 512)       2359808   \n",
      "_________________________________________________________________\n",
      "conv5_2 (Conv2D)             (None, 12, 12, 512)       2359808   \n",
      "_________________________________________________________________\n",
      "conv5_3 (Conv2D)             (None, 12, 12, 512)       2359808   \n",
      "_________________________________________________________________\n",
      "pool5 (MaxPooling2D)         (None, 6, 6, 512)         0         \n",
      "_________________________________________________________________\n",
      "global_average_pooling2d (Gl (None, 512)               0         \n",
      "=================================================================\n",
      "Total params: 14,714,688\n",
      "Trainable params: 0\n",
      "Non-trainable params: 14,714,688\n",
      "_________________________________________________________________\n"
     ]
    }
   ],
   "source": [
    "vggface.summary()"
   ]
  },
  {
   "cell_type": "code",
   "execution_count": 117,
   "metadata": {},
   "outputs": [],
   "source": [
    "from keras.layers import Flatten, Dense, Input, Conv2D, MaxPooling2D\n",
    "from tensorflow.keras.models import Sequential\n",
    "from keras.models import Model\n",
    "import tensorflow as tf\n",
    "\n",
    "model = Sequential([\n",
    "    vggface, \n",
    "    Dense(1, 'sigmoid')\n",
    "])"
   ]
  },
  {
   "cell_type": "code",
   "execution_count": 118,
   "metadata": {},
   "outputs": [
    {
     "name": "stdout",
     "output_type": "stream",
     "text": [
      "Model: \"sequential_3\"\n",
      "_________________________________________________________________\n",
      "Layer (type)                 Output Shape              Param #   \n",
      "=================================================================\n",
      "vggface_vgg16 (Functional)   (None, 512)               14714688  \n",
      "_________________________________________________________________\n",
      "dense_3 (Dense)              (None, 1)                 513       \n",
      "=================================================================\n",
      "Total params: 14,715,201\n",
      "Trainable params: 513\n",
      "Non-trainable params: 14,714,688\n",
      "_________________________________________________________________\n"
     ]
    }
   ],
   "source": [
    "model.summary()"
   ]
  },
  {
   "cell_type": "code",
   "execution_count": 119,
   "metadata": {
    "scrolled": true
   },
   "outputs": [
    {
     "name": "stdout",
     "output_type": "stream",
     "text": [
      "Epoch 1/10\n",
      "70/70 [==============================] - 114s 2s/step - loss: 1.3100 - accuracy: 0.7478 - val_loss: 0.7265 - val_accuracy: 0.8277\n",
      "Epoch 2/10\n",
      "70/70 [==============================] - 113s 2s/step - loss: 0.5307 - accuracy: 0.8634 - val_loss: 0.4888 - val_accuracy: 0.8643\n",
      "Epoch 3/10\n",
      "70/70 [==============================] - 113s 2s/step - loss: 0.3617 - accuracy: 0.8958 - val_loss: 0.3783 - val_accuracy: 0.8920\n",
      "Epoch 4/10\n",
      "70/70 [==============================] - 113s 2s/step - loss: 0.2817 - accuracy: 0.9167 - val_loss: 0.3232 - val_accuracy: 0.9080\n",
      "Epoch 5/10\n",
      "70/70 [==============================] - 114s 2s/step - loss: 0.2472 - accuracy: 0.9259 - val_loss: 0.2965 - val_accuracy: 0.9089\n",
      "Epoch 6/10\n",
      "70/70 [==============================] - 113s 2s/step - loss: 0.2076 - accuracy: 0.9373 - val_loss: 0.2719 - val_accuracy: 0.9152\n",
      "Epoch 7/10\n",
      "70/70 [==============================] - 114s 2s/step - loss: 0.1801 - accuracy: 0.9433 - val_loss: 0.2491 - val_accuracy: 0.9196\n",
      "Epoch 8/10\n",
      "70/70 [==============================] - 116s 2s/step - loss: 0.1654 - accuracy: 0.9469 - val_loss: 0.2371 - val_accuracy: 0.9232\n",
      "Epoch 9/10\n",
      "70/70 [==============================] - 114s 2s/step - loss: 0.1526 - accuracy: 0.9498 - val_loss: 0.2255 - val_accuracy: 0.9277\n",
      "Epoch 10/10\n",
      "70/70 [==============================] - 116s 2s/step - loss: 0.1404 - accuracy: 0.9554 - val_loss: 0.2341 - val_accuracy: 0.9232\n"
     ]
    }
   ],
   "source": [
    "from tensorflow.keras.callbacks import EarlyStopping\n",
    "\n",
    "early_stopping = EarlyStopping(monitor='val_accuracy',patience=5)\n",
    "model.compile(loss='binary_crossentropy', optimizer='Adam', metrics=['accuracy'])\n",
    "history = model.fit(\n",
    "    X_train,Y_train,\n",
    "    epochs = 10,\n",
    "    batch_size = 64,\n",
    "    validation_data = (X_valid,Y_valid),\n",
    "    shuffle=True,\n",
    "    callbacks=[early_stopping],\n",
    ")"
   ]
  },
  {
   "cell_type": "code",
   "execution_count": 120,
   "metadata": {},
   "outputs": [
    {
     "name": "stdout",
     "output_type": "stream",
     "text": [
      "44/44 [==============================] - 29s 669ms/step - loss: 0.1886 - accuracy: 0.9386\n",
      "\n",
      "Loss: 0.18859349191188812, Acc: 0.9385714530944824\n"
     ]
    }
   ],
   "source": [
    "loss, acc = model.evaluate(X_test,Y_test)\n",
    "print('\\nLoss: {}, Acc: {}'.format(loss,acc))"
   ]
  },
  {
   "cell_type": "code",
   "execution_count": 129,
   "metadata": {},
   "outputs": [],
   "source": [
    "model.save('./test_set/pretrained_vggface.h5')"
   ]
  },
  {
   "cell_type": "code",
   "execution_count": 112,
   "metadata": {},
   "outputs": [
    {
     "data": {
      "image/png": "[encoded data removed]",
      "text/plain": [
       "<Figure size 432x288 with 1 Axes>"
      ]
     },
     "metadata": {
      "needs_background": "light"
     },
     "output_type": "display_data"
    },
    {
     "data": {
      "image/png": "[encoded data removed]",
      "text/plain": [
       "<Figure size 432x288 with 1 Axes>"
      ]
     },
     "metadata": {
      "needs_background": "light"
     },
     "output_type": "display_data"
    }
   ],
   "source": [
    "import matplotlib.pyplot as plt\n",
    "def plt_show_loss(history):\n",
    "    plt.plot(history.history['loss'])\n",
    "    plt.plot(history.history['val_loss'])\n",
    "    plt.title('Model Loss')\n",
    "    plt.ylabel('Loss')\n",
    "    plt.xlabel('Epoch')\n",
    "    plt.legend(['Train','Test'],loc=0)\n",
    "\n",
    "def plt_show_acc(history):\n",
    "    plt.plot(history.history['accuracy'])\n",
    "    plt.plot(history.history['val_accuracy'])\n",
    "    plt.title('Model Accuracy')\n",
    "    plt.ylabel('Accuracy')\n",
    "    plt.xlabel('Epoch')\n",
    "    plt.legend(['Train','Valid'],loc=0)\n",
    "plt_show_loss(history)\n",
    "plt.show()\n",
    "plt_show_acc(history)\n",
    "plt.show()"
   ]
  },
  {
   "cell_type": "code",
   "execution_count": 113,
   "metadata": {},
   "outputs": [
    {
     "name": "stdout",
     "output_type": "stream",
     "text": [
      "              precision    recall  f1-score   support\n",
      "\n",
      "         0.0     0.9421    0.9490    0.9455       686\n",
      "         1.0     0.9506    0.9440    0.9473       714\n",
      "\n",
      "    accuracy                         0.9464      1400\n",
      "   macro avg     0.9464    0.9465    0.9464      1400\n",
      "weighted avg     0.9465    0.9464    0.9464      1400\n",
      "\n"
     ]
    }
   ],
   "source": [
    "from sklearn.metrics import classification_report\n",
    "Y_pred = model.predict(X_test)\n",
    "Y_pred = np.where(Y_pred>0.5, 1, 0)\n",
    "print(classification_report(Y_test,Y_pred, digits=4))"
   ]
  },
  {
   "cell_type": "markdown",
   "metadata": {},
   "source": [
    "# 3-1. Test Model -> unchanged test set"
   ]
  },
  {
   "cell_type": "code",
   "execution_count": 69,
   "metadata": {},
   "outputs": [],
   "source": [
    "ctz_original = np.load('/home/dxlab/jupyter/soyoung/racist_model/Detect-Facial-Features/frontal_ctz_original_4.npy')\n",
    "mgs_original = np.load('/home/dxlab/jupyter/soyoung/racist_model/Detect-Facial-Features/frontal_mgs_original_4.npy')"
   ]
  },
  {
   "cell_type": "code",
   "execution_count": 121,
   "metadata": {},
   "outputs": [
    {
     "name": "stdout",
     "output_type": "stream",
     "text": [
      "[[652  48]\n",
      " [ 41 659]]\n"
     ]
    }
   ],
   "source": [
    "from sklearn.metrics import classification_report\n",
    "from sklearn.metrics import confusion_matrix\n",
    "original_img = np.append(ctz_original, mgs_original, axis=0)\n",
    "y = np.append(np.zeros(shape=ctz_original.shape[0]), np.ones(shape=mgs_original.shape[0]), axis=0)\n",
    "\n",
    "original_y_pred = model.predict(original_img)\n",
    "original_y_pred = np.where(original_y_pred>0.5, 1, 0)\n",
    "print(confusion_matrix(y,original_y_pred))"
   ]
  },
  {
   "cell_type": "code",
   "execution_count": 122,
   "metadata": {},
   "outputs": [
    {
     "name": "stdout",
     "output_type": "stream",
     "text": [
      "              precision    recall  f1-score   support\n",
      "\n",
      "         0.0     0.9408    0.9314    0.9361       700\n",
      "         1.0     0.9321    0.9414    0.9367       700\n",
      "\n",
      "    accuracy                         0.9364      1400\n",
      "   macro avg     0.9365    0.9364    0.9364      1400\n",
      "weighted avg     0.9365    0.9364    0.9364      1400\n",
      "\n"
     ]
    }
   ],
   "source": [
    "print(classification_report(y,original_y_pred,digits=4))"
   ]
  },
  {
   "cell_type": "markdown",
   "metadata": {},
   "source": [
    "# 3-2. Test Model -> Skin changed set"
   ]
  },
  {
   "cell_type": "code",
   "execution_count": 72,
   "metadata": {},
   "outputs": [],
   "source": [
    "ctz_skin_changed = np.load('/home/dxlab/jupyter/soyoung/racist_model/Detect-Facial-Features/features_changed/ctz_blacked/ctz_skin_changed_4.npy')\n",
    "mgs_skin_changed = np.load('/home/dxlab/jupyter/soyoung/racist_model/Detect-Facial-Features/features_changed/mgs_whited/mgs_skin_changed_4.npy')"
   ]
  },
  {
   "cell_type": "code",
   "execution_count": 123,
   "metadata": {},
   "outputs": [
    {
     "name": "stdout",
     "output_type": "stream",
     "text": [
      "[[686  14]\n",
      " [160 540]]\n"
     ]
    }
   ],
   "source": [
    "changed_img = np.append(ctz_skin_changed, mgs_skin_changed, axis=0)\n",
    "y = np.append(np.zeros(shape=ctz_skin_changed.shape[0]), np.ones(shape=mgs_skin_changed.shape[0]), axis=0)\n",
    "\n",
    "changed_y_pred = model.predict(changed_img)\n",
    "changed_y_pred = np.where(changed_y_pred>0.5, 1, 0)\n",
    "\n",
    "print(confusion_matrix(y,changed_y_pred))"
   ]
  },
  {
   "cell_type": "code",
   "execution_count": 124,
   "metadata": {},
   "outputs": [
    {
     "name": "stdout",
     "output_type": "stream",
     "text": [
      "              precision    recall  f1-score   support\n",
      "\n",
      "         0.0     0.8109    0.9800    0.8875       700\n",
      "         1.0     0.9747    0.7714    0.8612       700\n",
      "\n",
      "    accuracy                         0.8757      1400\n",
      "   macro avg     0.8928    0.8757    0.8743      1400\n",
      "weighted avg     0.8928    0.8757    0.8743      1400\n",
      "\n"
     ]
    }
   ],
   "source": [
    "print(classification_report(y,changed_y_pred,digits=4))"
   ]
  },
  {
   "cell_type": "markdown",
   "metadata": {},
   "source": [
    "# 3-3. Test Model -> Nose changed set"
   ]
  },
  {
   "cell_type": "code",
   "execution_count": 75,
   "metadata": {},
   "outputs": [],
   "source": [
    "ctz_nose_changed = np.load('/home/dxlab/jupyter/soyoung/racist_model/Detect-Facial-Features/features_changed/ctz_blacked/ctz_nose_changed_4.npy')\n",
    "mgs_nose_changed = np.load('/home/dxlab/jupyter/soyoung/racist_model/Detect-Facial-Features/features_changed/mgs_whited/mgs_nose_changed_4.npy')"
   ]
  },
  {
   "cell_type": "code",
   "execution_count": 125,
   "metadata": {},
   "outputs": [
    {
     "name": "stdout",
     "output_type": "stream",
     "text": [
      "[[673  27]\n",
      " [ 78 622]]\n"
     ]
    }
   ],
   "source": [
    "changed_img = np.append(ctz_nose_changed, mgs_nose_changed, axis=0)\n",
    "y = np.append(np.zeros(shape=ctz_nose_changed.shape[0]), np.ones(shape=mgs_nose_changed.shape[0]), axis=0)\n",
    "\n",
    "changed_y_pred = model.predict(changed_img)\n",
    "changed_y_pred = np.where(changed_y_pred>0.5, 1, 0)\n",
    "\n",
    "print(confusion_matrix(y,changed_y_pred))"
   ]
  },
  {
   "cell_type": "code",
   "execution_count": 126,
   "metadata": {},
   "outputs": [
    {
     "name": "stdout",
     "output_type": "stream",
     "text": [
      "              precision    recall  f1-score   support\n",
      "\n",
      "         0.0     0.8961    0.9614    0.9276       700\n",
      "         1.0     0.9584    0.8886    0.9222       700\n",
      "\n",
      "    accuracy                         0.9250      1400\n",
      "   macro avg     0.9273    0.9250    0.9249      1400\n",
      "weighted avg     0.9273    0.9250    0.9249      1400\n",
      "\n"
     ]
    }
   ],
   "source": [
    "print(classification_report(y,changed_y_pred,digits=4))"
   ]
  },
  {
   "cell_type": "markdown",
   "metadata": {},
   "source": [
    "# 3-4. Test Model -> Lip changed set"
   ]
  },
  {
   "cell_type": "code",
   "execution_count": 81,
   "metadata": {},
   "outputs": [],
   "source": [
    "ctz_lip_changed = np.load('/home/dxlab/jupyter/soyoung/racist_model/Detect-Facial-Features/features_changed/ctz_blacked/ctz_lip_changed_4.npy')\n",
    "mgs_lip_changed = np.load('/home/dxlab/jupyter/soyoung/racist_model/Detect-Facial-Features/features_changed/mgs_whited/mgs_lip_changed_4.npy')"
   ]
  },
  {
   "cell_type": "code",
   "execution_count": 127,
   "metadata": {},
   "outputs": [
    {
     "name": "stdout",
     "output_type": "stream",
     "text": [
      "[[662  38]\n",
      " [ 68 632]]\n"
     ]
    }
   ],
   "source": [
    "changed_img = np.append(ctz_lip_changed, mgs_lip_changed, axis=0)\n",
    "y = np.append(np.zeros(shape=ctz_lip_changed.shape[0]), np.ones(shape=mgs_lip_changed.shape[0]), axis=0)\n",
    "\n",
    "changed_y_pred = model.predict(changed_img)\n",
    "changed_y_pred = np.where(changed_y_pred>0.5, 1, 0)\n",
    "\n",
    "print(confusion_matrix(y,changed_y_pred))"
   ]
  },
  {
   "cell_type": "code",
   "execution_count": 128,
   "metadata": {},
   "outputs": [
    {
     "name": "stdout",
     "output_type": "stream",
     "text": [
      "              precision    recall  f1-score   support\n",
      "\n",
      "         0.0     0.9068    0.9457    0.9259       700\n",
      "         1.0     0.9433    0.9029    0.9226       700\n",
      "\n",
      "    accuracy                         0.9243      1400\n",
      "   macro avg     0.9251    0.9243    0.9243      1400\n",
      "weighted avg     0.9251    0.9243    0.9243      1400\n",
      "\n"
     ]
    }
   ],
   "source": [
    "print(classification_report(y,changed_y_pred,digits=4))"
   ]
  },
  {
   "cell_type": "markdown",
   "metadata": {},
   "source": [
    "# 3-5. Test Model -> total changed set"
   ]
  },
  {
   "cell_type": "code",
   "execution_count": 78,
   "metadata": {},
   "outputs": [],
   "source": [
    "ctz_total_changed = np.load('/home/dxlab/jupyter/soyoung/racist_model/Detect-Facial-Features/features_changed/ctz_blacked/ctz_total_changed_4.npy')\n",
    "mgs_total_changed = np.load('/home/dxlab/jupyter/soyoung/racist_model/Detect-Facial-Features/features_changed/mgs_whited/mgs_total_changed_4.npy')"
   ]
  },
  {
   "cell_type": "code",
   "execution_count": 130,
   "metadata": {},
   "outputs": [
    {
     "name": "stdout",
     "output_type": "stream",
     "text": [
      "[[694   6]\n",
      " [208 492]]\n"
     ]
    }
   ],
   "source": [
    "changed_img = np.append(ctz_total_changed, mgs_total_changed, axis=0)\n",
    "y = np.append(np.zeros(shape=ctz_total_changed.shape[0]), np.ones(shape=mgs_total_changed.shape[0]), axis=0)\n",
    "\n",
    "changed_y_pred = model.predict(changed_img)\n",
    "changed_y_pred = np.where(changed_y_pred>0.5, 1, 0)\n",
    "\n",
    "print(confusion_matrix(y,changed_y_pred))"
   ]
  },
  {
   "cell_type": "code",
   "execution_count": 131,
   "metadata": {},
   "outputs": [
    {
     "name": "stdout",
     "output_type": "stream",
     "text": [
      "              precision    recall  f1-score   support\n",
      "\n",
      "         0.0     0.7694    0.9914    0.8664       700\n",
      "         1.0     0.9880    0.7029    0.8214       700\n",
      "\n",
      "    accuracy                         0.8471      1400\n",
      "   macro avg     0.8787    0.8471    0.8439      1400\n",
      "weighted avg     0.8787    0.8471    0.8439      1400\n",
      "\n"
     ]
    }
   ],
   "source": [
    "print(classification_report(y,changed_y_pred,digits=4))"
   ]
  }
 ],
 "metadata": {
  "kernelspec": {
   "display_name": "Python 3",
   "language": "python",
   "name": "python3"
  },
  "language_info": {
   "codemirror_mode": {
    "name": "ipython",
    "version": 3
   },
   "file_extension": ".py",
   "mimetype": "text/x-python",
   "name": "python",
   "nbconvert_exporter": "python",
   "pygments_lexer": "ipython3",
   "version": "3.7.8"
  }
 },
 "nbformat": 4,
 "nbformat_minor": 4
}
