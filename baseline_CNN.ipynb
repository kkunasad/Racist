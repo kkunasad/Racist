{
 "cells": [
  {
   "cell_type": "code",
   "execution_count": 1,
   "metadata": {},
   "outputs": [],
   "source": [
    "import numpy as np\n",
    "import matplotlib.pyplot as plt\n",
    "import os \n",
    "import shutil \n",
    "import pandas as pd\n",
    "import PIL\n",
    "import cv2\n",
    "import glob\n",
    "from tensorflow.keras.preprocessing import image\n",
    "from PIL import Image"
   ]
  },
  {
   "cell_type": "code",
   "execution_count": 5,
   "metadata": {},
   "outputs": [],
   "source": [
    "import numpy as np\n",
    "X_train = np.load('./test_set/X_train.npy')\n",
    "X_test = np.load('./test_set/X_test.npy')\n",
    "X_valid = np.load('./test_set/X_valid.npy')\n",
    "\n",
    "Y_train = np.load('./test_set/Y_train.npy')\n",
    "Y_test = np.load('./test_set/Y_test.npy')\n",
    "Y_valid = np.load('./test_set/Y_valid.npy')"
   ]
  },
  {
   "cell_type": "code",
   "execution_count": 7,
   "metadata": {},
   "outputs": [
    {
     "data": {
      "text/plain": [
       "((4480, 200, 200, 3), (1120, 200, 200, 3), (1400, 200, 200, 3))"
      ]
     },
     "execution_count": 7,
     "metadata": {},
     "output_type": "execute_result"
    }
   ],
   "source": [
    "X_train.shape, X_valid.shape, X_test.shape"
   ]
  },
  {
   "cell_type": "markdown",
   "metadata": {},
   "source": [
    "# 1. Train model"
   ]
  },
  {
   "cell_type": "code",
   "execution_count": 5,
   "metadata": {},
   "outputs": [],
   "source": [
    "import tensorflow as tf\n",
    "from tensorflow import keras\n",
    "from tensorflow.keras import utils\n",
    "from tensorflow.keras import layers\n",
    "from tensorflow.keras import datasets\n",
    "from tensorflow.keras.callbacks import EarlyStopping\n",
    "from tensorflow.keras.layers import Dense,Dropout,Flatten,Conv2D,MaxPooling2D\n",
    "from tensorflow.keras.models import Sequential"
   ]
  },
  {
   "cell_type": "code",
   "execution_count": 6,
   "metadata": {
    "scrolled": true
   },
   "outputs": [
    {
     "name": "stdout",
     "output_type": "stream",
     "text": [
      "Model: \"sequential\"\n",
      "_________________________________________________________________\n",
      "Layer (type)                 Output Shape              Param #   \n",
      "=================================================================\n",
      "conv2d (Conv2D)              (None, 200, 200, 16)      448       \n",
      "_________________________________________________________________\n",
      "max_pooling2d (MaxPooling2D) (None, 100, 100, 16)      0         \n",
      "_________________________________________________________________\n",
      "conv2d_1 (Conv2D)            (None, 100, 100, 32)      4640      \n",
      "_________________________________________________________________\n",
      "max_pooling2d_1 (MaxPooling2 (None, 50, 50, 32)        0         \n",
      "_________________________________________________________________\n",
      "conv2d_2 (Conv2D)            (None, 50, 50, 64)        18496     \n",
      "_________________________________________________________________\n",
      "max_pooling2d_2 (MaxPooling2 (None, 25, 25, 64)        0         \n",
      "_________________________________________________________________\n",
      "conv2d_3 (Conv2D)            (None, 25, 25, 64)        36928     \n",
      "_________________________________________________________________\n",
      "max_pooling2d_3 (MaxPooling2 (None, 12, 12, 64)        0         \n",
      "_________________________________________________________________\n",
      "conv2d_4 (Conv2D)            (None, 12, 12, 64)        36928     \n",
      "_________________________________________________________________\n",
      "max_pooling2d_4 (MaxPooling2 (None, 6, 6, 64)          0         \n",
      "_________________________________________________________________\n",
      "flatten (Flatten)            (None, 2304)              0         \n",
      "_________________________________________________________________\n",
      "dense (Dense)                (None, 512)               1180160   \n",
      "_________________________________________________________________\n",
      "dense_1 (Dense)              (None, 1)                 513       \n",
      "=================================================================\n",
      "Total params: 1,278,113\n",
      "Trainable params: 1,278,113\n",
      "Non-trainable params: 0\n",
      "_________________________________________________________________\n"
     ]
    }
   ],
   "source": [
    "model = keras.Sequential([\n",
    "                            \n",
    "                          Conv2D(16,kernel_size=(3,3),padding='same',\n",
    "                          input_shape=X_train[0].shape,activation=tf.nn.relu),\n",
    "                          MaxPooling2D(pool_size=(2,2)),\n",
    "    \n",
    "                          Conv2D(32,kernel_size=(3,3),padding='same',activation=tf.nn.relu),\n",
    "                          MaxPooling2D(pool_size=(2,2)),\n",
    "    \n",
    "                          Conv2D(64,kernel_size=(3,3),padding='same',activation=tf.nn.relu),\n",
    "                          MaxPooling2D(pool_size=(2,2)),\n",
    "    \n",
    "                          Conv2D(64,kernel_size=(3,3),padding='same',activation=tf.nn.relu),\n",
    "                          MaxPooling2D(pool_size=(2,2)),\n",
    "    \n",
    "                          Conv2D(64,kernel_size=(3,3),padding='same',activation=tf.nn.relu),\n",
    "                          MaxPooling2D(pool_size=(2,2)),\n",
    "\n",
    "                          Flatten(),\n",
    "                          Dense(512,activation=tf.nn.relu),\n",
    "                          Dense(1,activation=tf.nn.sigmoid),\n",
    "])\n",
    "\n",
    "model.summary()"
   ]
  },
  {
   "cell_type": "code",
   "execution_count": 7,
   "metadata": {},
   "outputs": [
    {
     "name": "stdout",
     "output_type": "stream",
     "text": [
      "Epoch 1/10\n",
      "35/35 [==============================] - 24s 682ms/step - loss: 5.1687 - accuracy: 0.6154 - val_loss: 0.5209 - val_accuracy: 0.7393\n",
      "Epoch 2/10\n",
      "35/35 [==============================] - 23s 662ms/step - loss: 0.3539 - accuracy: 0.8549 - val_loss: 0.3536 - val_accuracy: 0.8384\n",
      "Epoch 3/10\n",
      "35/35 [==============================] - 23s 664ms/step - loss: 0.2007 - accuracy: 0.9232 - val_loss: 0.3697 - val_accuracy: 0.8429\n",
      "Epoch 4/10\n",
      "35/35 [==============================] - 23s 664ms/step - loss: 0.1599 - accuracy: 0.9391 - val_loss: 0.0901 - val_accuracy: 0.9714\n",
      "Epoch 5/10\n",
      "35/35 [==============================] - 23s 671ms/step - loss: 0.0899 - accuracy: 0.9705 - val_loss: 0.0614 - val_accuracy: 0.9795\n",
      "Epoch 6/10\n",
      "35/35 [==============================] - 23s 666ms/step - loss: 0.0582 - accuracy: 0.9801 - val_loss: 0.1057 - val_accuracy: 0.9616\n",
      "Epoch 7/10\n",
      "35/35 [==============================] - 23s 669ms/step - loss: 0.0576 - accuracy: 0.9797 - val_loss: 0.0525 - val_accuracy: 0.9804\n",
      "Epoch 8/10\n",
      "35/35 [==============================] - 23s 671ms/step - loss: 0.0351 - accuracy: 0.9882 - val_loss: 0.0664 - val_accuracy: 0.9768\n",
      "Epoch 9/10\n",
      "35/35 [==============================] - 23s 669ms/step - loss: 0.0409 - accuracy: 0.9855 - val_loss: 0.0705 - val_accuracy: 0.9759\n",
      "Epoch 10/10\n",
      "35/35 [==============================] - 24s 677ms/step - loss: 0.0330 - accuracy: 0.9879 - val_loss: 0.0486 - val_accuracy: 0.9821\n"
     ]
    }
   ],
   "source": [
    "early_stopping = EarlyStopping(monitor='val_accuracy',patience=5)\n",
    "model.compile(loss='binary_crossentropy', optimizer='Adam', metrics=['accuracy'])\n",
    "history = model.fit(\n",
    "    X_train,Y_train,\n",
    "    epochs = 10,\n",
    "    batch_size = 128,\n",
    "    validation_data = (X_valid,Y_valid),\n",
    "    shuffle=True,\n",
    "    callbacks=[early_stopping],\n",
    ")"
   ]
  },
  {
   "cell_type": "code",
   "execution_count": 8,
   "metadata": {},
   "outputs": [
    {
     "name": "stdout",
     "output_type": "stream",
     "text": [
      "44/44 [==============================] - 2s 35ms/step - loss: 0.0625 - accuracy: 0.9836\n",
      "\n",
      "Loss: 0.06252992153167725, Acc: 0.9835714101791382\n"
     ]
    }
   ],
   "source": [
    "loss, acc = model.evaluate(X_test,Y_test)\n",
    "print('\\nLoss: {}, Acc: {}'.format(loss,acc))"
   ]
  },
  {
   "cell_type": "code",
   "execution_count": 9,
   "metadata": {},
   "outputs": [
    {
     "data": {
      "image/png": "[encoded data removed]",
      "text/plain": [
       "<Figure size 432x288 with 1 Axes>"
      ]
     },
     "metadata": {
      "needs_background": "light"
     },
     "output_type": "display_data"
    },
    {
     "data": {
      "image/png": "[encoded data removed]",
      "text/plain": [
       "<Figure size 432x288 with 1 Axes>"
      ]
     },
     "metadata": {
      "needs_background": "light"
     },
     "output_type": "display_data"
    }
   ],
   "source": [
    "import matplotlib.pyplot as plt\n",
    "def plt_show_loss(history):\n",
    "    plt.plot(history.history['loss'])\n",
    "    plt.plot(history.history['val_loss'])\n",
    "    plt.title('Model Loss')\n",
    "    plt.ylabel('Loss')\n",
    "    plt.xlabel('Epoch')\n",
    "    plt.legend(['Train','Test'],loc=0)\n",
    "\n",
    "def plt_show_acc(history):\n",
    "    plt.plot(history.history['accuracy'])\n",
    "    plt.plot(history.history['val_accuracy'])\n",
    "    plt.title('Model Accuracy')\n",
    "    plt.ylabel('Accuracy')\n",
    "    plt.xlabel('Epoch')\n",
    "    plt.legend(['Train','Valid'],loc=0)\n",
    "plt_show_loss(history)\n",
    "plt.show()\n",
    "plt_show_acc(history)\n",
    "plt.show()"
   ]
  },
  {
   "cell_type": "code",
   "execution_count": 17,
   "metadata": {},
   "outputs": [],
   "source": [
    "from keras.models import load_model\n",
    "model.save('./test_set/baseline_model_cnn.h5')"
   ]
  },
  {
   "cell_type": "code",
   "execution_count": 3,
   "metadata": {},
   "outputs": [],
   "source": [
    "from keras.models import load_model\n",
    "model = load_model('./test_set/baseline_model_cnn.h5')"
   ]
  },
  {
   "cell_type": "code",
   "execution_count": 4,
   "metadata": {},
   "outputs": [
    {
     "name": "stdout",
     "output_type": "stream",
     "text": [
      "              precision    recall  f1-score   support\n",
      "\n",
      "         0.0     0.9971    0.9898    0.9934       686\n",
      "         1.0     0.9903    0.9972    0.9937       714\n",
      "\n",
      "    accuracy                         0.9936      1400\n",
      "   macro avg     0.9937    0.9935    0.9936      1400\n",
      "weighted avg     0.9936    0.9936    0.9936      1400\n",
      "\n"
     ]
    }
   ],
   "source": [
    "from sklearn.metrics import classification_report\n",
    "Y_pred = model.predict(X_test)\n",
    "Y_pred = np.where(Y_pred>0.5, 1 ,0)\n",
    "print(classification_report(Y_test,Y_pred, digits=4))"
   ]
  },
  {
   "cell_type": "markdown",
   "metadata": {},
   "source": [
    "# 2-1. Test Model -> unchanged test set"
   ]
  },
  {
   "cell_type": "code",
   "execution_count": 10,
   "metadata": {},
   "outputs": [],
   "source": [
    "ctz_original = np.load('/home/dxlab/jupyter/soyoung/racist_model/Detect-Facial-Features/frontal_ctz_original_4.npy')\n",
    "mgs_original = np.load('/home/dxlab/jupyter/soyoung/racist_model/Detect-Facial-Features/frontal_mgs_original_4.npy')"
   ]
  },
  {
   "cell_type": "code",
   "execution_count": 11,
   "metadata": {},
   "outputs": [
    {
     "name": "stdout",
     "output_type": "stream",
     "text": [
      "[[691   9]\n",
      " [  9 691]]\n"
     ]
    }
   ],
   "source": [
    "from sklearn.metrics import classification_report\n",
    "from sklearn.metrics import confusion_matrix\n",
    "original_img = np.append(ctz_original, mgs_original, axis=0)\n",
    "y = np.append(np.zeros(shape=ctz_original.shape[0]), np.ones(shape=mgs_original.shape[0]), axis=0)\n",
    "\n",
    "original_y_pred = model.predict(original_img)\n",
    "original_y_pred = np.where(original_y_pred>0.5, 1, 0)\n",
    "print(confusion_matrix(y,original_y_pred))"
   ]
  },
  {
   "cell_type": "code",
   "execution_count": 12,
   "metadata": {},
   "outputs": [
    {
     "name": "stdout",
     "output_type": "stream",
     "text": [
      "              precision    recall  f1-score   support\n",
      "\n",
      "         0.0     0.9871    0.9871    0.9871       700\n",
      "         1.0     0.9871    0.9871    0.9871       700\n",
      "\n",
      "    accuracy                         0.9871      1400\n",
      "   macro avg     0.9871    0.9871    0.9871      1400\n",
      "weighted avg     0.9871    0.9871    0.9871      1400\n",
      "\n"
     ]
    }
   ],
   "source": [
    "print(classification_report(y,original_y_pred,digits=4))"
   ]
  },
  {
   "cell_type": "markdown",
   "metadata": {},
   "source": [
    "# 2-2. Test Model -> Skin changed set"
   ]
  },
  {
   "cell_type": "code",
   "execution_count": 17,
   "metadata": {},
   "outputs": [],
   "source": [
    "ctz_skin_changed = np.load('/home/dxlab/jupyter/soyoung/racist_model/Detect-Facial-Features/features_changed/ctz_blacked/ctz_skin_changed_4.npy')\n",
    "mgs_skin_changed = np.load('/home/dxlab/jupyter/soyoung/racist_model/Detect-Facial-Features/features_changed/mgs_whited/mgs_skin_changed_4.npy')"
   ]
  },
  {
   "cell_type": "code",
   "execution_count": 18,
   "metadata": {},
   "outputs": [
    {
     "name": "stdout",
     "output_type": "stream",
     "text": [
      "[[681  19]\n",
      " [174 526]]\n"
     ]
    }
   ],
   "source": [
    "changed_img = np.append(ctz_skin_changed, mgs_skin_changed, axis=0)\n",
    "y = np.append(np.zeros(shape=ctz_skin_changed.shape[0]), np.ones(shape=mgs_skin_changed.shape[0]), axis=0)\n",
    "\n",
    "changed_y_pred = model.predict(changed_img)\n",
    "changed_y_pred = np.where(changed_y_pred>0.5, 1, 0)\n",
    "\n",
    "print(confusion_matrix(y,changed_y_pred))"
   ]
  },
  {
   "cell_type": "code",
   "execution_count": 19,
   "metadata": {},
   "outputs": [
    {
     "name": "stdout",
     "output_type": "stream",
     "text": [
      "              precision    recall  f1-score   support\n",
      "\n",
      "         0.0     0.7965    0.9729    0.8759       700\n",
      "         1.0     0.9651    0.7514    0.8450       700\n",
      "\n",
      "    accuracy                         0.8621      1400\n",
      "   macro avg     0.8808    0.8621    0.8604      1400\n",
      "weighted avg     0.8808    0.8621    0.8604      1400\n",
      "\n"
     ]
    }
   ],
   "source": [
    "print(classification_report(y,changed_y_pred,digits=4))"
   ]
  },
  {
   "cell_type": "markdown",
   "metadata": {},
   "source": [
    "# 2-3. Test Model -> Nose changed set"
   ]
  },
  {
   "cell_type": "code",
   "execution_count": 20,
   "metadata": {},
   "outputs": [],
   "source": [
    "ctz_nose_changed = np.load('/home/dxlab/jupyter/soyoung/racist_model/Detect-Facial-Features/features_changed/ctz_blacked/ctz_nose_changed_4.npy')\n",
    "mgs_nose_changed = np.load('/home/dxlab/jupyter/soyoung/racist_model/Detect-Facial-Features/features_changed/mgs_whited/mgs_nose_changed_4.npy')"
   ]
  },
  {
   "cell_type": "code",
   "execution_count": 21,
   "metadata": {},
   "outputs": [
    {
     "name": "stdout",
     "output_type": "stream",
     "text": [
      "[[692   8]\n",
      " [ 12 688]]\n"
     ]
    }
   ],
   "source": [
    "changed_img = np.append(ctz_nose_changed, mgs_nose_changed, axis=0)\n",
    "y = np.append(np.zeros(shape=ctz_nose_changed.shape[0]), np.ones(shape=mgs_nose_changed.shape[0]), axis=0)\n",
    "\n",
    "changed_y_pred = model.predict(changed_img)\n",
    "changed_y_pred = np.where(changed_y_pred>0.5, 1, 0)\n",
    "\n",
    "print(confusion_matrix(y,changed_y_pred))"
   ]
  },
  {
   "cell_type": "code",
   "execution_count": 22,
   "metadata": {},
   "outputs": [
    {
     "name": "stdout",
     "output_type": "stream",
     "text": [
      "              precision    recall  f1-score   support\n",
      "\n",
      "         0.0     0.9830    0.9886    0.9858       700\n",
      "         1.0     0.9885    0.9829    0.9857       700\n",
      "\n",
      "    accuracy                         0.9857      1400\n",
      "   macro avg     0.9857    0.9857    0.9857      1400\n",
      "weighted avg     0.9857    0.9857    0.9857      1400\n",
      "\n"
     ]
    }
   ],
   "source": [
    "print(classification_report(y,changed_y_pred,digits=4))"
   ]
  },
  {
   "cell_type": "markdown",
   "metadata": {},
   "source": [
    "# 2-4. Test Model -> Lip changed set"
   ]
  },
  {
   "cell_type": "code",
   "execution_count": 23,
   "metadata": {},
   "outputs": [],
   "source": [
    "ctz_lip_changed = np.load('/home/dxlab/jupyter/soyoung/racist_model/Detect-Facial-Features/features_changed/ctz_blacked/ctz_lip_changed_4.npy')\n",
    "mgs_lip_changed = np.load('/home/dxlab/jupyter/soyoung/racist_model/Detect-Facial-Features/features_changed/mgs_whited/mgs_lip_changed_4.npy')"
   ]
  },
  {
   "cell_type": "code",
   "execution_count": 24,
   "metadata": {},
   "outputs": [
    {
     "name": "stdout",
     "output_type": "stream",
     "text": [
      "[[694   6]\n",
      " [ 12 688]]\n"
     ]
    }
   ],
   "source": [
    "changed_img = np.append(ctz_lip_changed, mgs_lip_changed, axis=0)\n",
    "y = np.append(np.zeros(shape=ctz_lip_changed.shape[0]), np.ones(shape=mgs_lip_changed.shape[0]), axis=0)\n",
    "\n",
    "changed_y_pred = model.predict(changed_img)\n",
    "changed_y_pred = np.where(changed_y_pred>0.5, 1, 0)\n",
    "\n",
    "print(confusion_matrix(y,changed_y_pred))"
   ]
  },
  {
   "cell_type": "code",
   "execution_count": 25,
   "metadata": {},
   "outputs": [
    {
     "name": "stdout",
     "output_type": "stream",
     "text": [
      "              precision    recall  f1-score   support\n",
      "\n",
      "         0.0     0.9830    0.9914    0.9872       700\n",
      "         1.0     0.9914    0.9829    0.9871       700\n",
      "\n",
      "    accuracy                         0.9871      1400\n",
      "   macro avg     0.9872    0.9871    0.9871      1400\n",
      "weighted avg     0.9872    0.9871    0.9871      1400\n",
      "\n"
     ]
    }
   ],
   "source": [
    "print(classification_report(y,changed_y_pred,digits=4))"
   ]
  },
  {
   "cell_type": "markdown",
   "metadata": {},
   "source": [
    "# 2-5. Test Model -> Total changed set"
   ]
  },
  {
   "cell_type": "code",
   "execution_count": 26,
   "metadata": {},
   "outputs": [],
   "source": [
    "ctz_total_changed = np.load('/home/dxlab/jupyter/soyoung/racist_model/Detect-Facial-Features/features_changed/ctz_blacked/ctz_total_changed_4.npy')\n",
    "mgs_total_changed = np.load('/home/dxlab/jupyter/soyoung/racist_model/Detect-Facial-Features/features_changed/mgs_whited/mgs_total_changed_4.npy')"
   ]
  },
  {
   "cell_type": "code",
   "execution_count": 27,
   "metadata": {},
   "outputs": [
    {
     "name": "stdout",
     "output_type": "stream",
     "text": [
      "[[698   2]\n",
      " [191 509]]\n"
     ]
    }
   ],
   "source": [
    "changed_img = np.append(ctz_total_changed, mgs_total_changed, axis=0)\n",
    "y = np.append(np.zeros(shape=ctz_total_changed.shape[0]), np.ones(shape=mgs_total_changed.shape[0]), axis=0)\n",
    "\n",
    "changed_y_pred = model.predict(changed_img)\n",
    "changed_y_pred = np.where(changed_y_pred>0.5, 1, 0)\n",
    "\n",
    "print(confusion_matrix(y,changed_y_pred))"
   ]
  },
  {
   "cell_type": "code",
   "execution_count": 28,
   "metadata": {},
   "outputs": [
    {
     "name": "stdout",
     "output_type": "stream",
     "text": [
      "              precision    recall  f1-score   support\n",
      "\n",
      "         0.0     0.7852    0.9971    0.8785       700\n",
      "         1.0     0.9961    0.7271    0.8406       700\n",
      "\n",
      "    accuracy                         0.8621      1400\n",
      "   macro avg     0.8906    0.8621    0.8596      1400\n",
      "weighted avg     0.8906    0.8621    0.8596      1400\n",
      "\n"
     ]
    }
   ],
   "source": [
    "print(classification_report(y,changed_y_pred,digits=4))"
   ]
  }
 ],
 "metadata": {
  "kernelspec": {
   "display_name": "Python 3",
   "language": "python",
   "name": "python3"
  },
  "language_info": {
   "codemirror_mode": {
    "name": "ipython",
    "version": 3
   },
   "file_extension": ".py",
   "mimetype": "text/x-python",
   "name": "python",
   "nbconvert_exporter": "python",
   "pygments_lexer": "ipython3",
   "version": "3.7.8"
  }
 },
 "nbformat": 4,
 "nbformat_minor": 4
}
