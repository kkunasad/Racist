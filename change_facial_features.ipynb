{
 "cells": [
  {
   "cell_type": "markdown",
   "metadata": {},
   "source": [
    "* https://opencv-python.readthedocs.io/en/latest/doc/10.imageTransformation/imageTransformation.html\n",
    "* https://www.pyimagesearch.com/2017/04/10/detect-eyes-nose-lips-jaw-dlib-opencv-python/"
   ]
  },
  {
   "cell_type": "markdown",
   "metadata": {},
   "source": [
    "# 1. Face Elements Location Detection"
   ]
  },
  {
   "cell_type": "code",
   "execution_count": 1,
   "metadata": {},
   "outputs": [],
   "source": [
    "from collections import OrderedDict\n",
    "import numpy as np\n",
    "import cv2\n",
    "import argparse\n",
    "import dlib\n",
    "import imutils\n",
    "import matplotlib.pyplot as plt\n",
    "from PIL import Image"
   ]
  },
  {
   "cell_type": "code",
   "execution_count": 2,
   "metadata": {},
   "outputs": [],
   "source": [
    "import dlib\n",
    "def get_frontal_face(image):\n",
    "    face_detector = dlib.get_frontal_face_detector()\n",
    "    try:\n",
    "        faces = face_detector(image)\n",
    "    except:\n",
    "        return []\n",
    "    if len(faces)>1:\n",
    "        size_list = []\n",
    "        for face in faces:\n",
    "            size = (face.bottom()-face.top())*(face.right()-face.left())\n",
    "            size_list.append(size)\n",
    "        face = faces[np.argmax(size_list)]\n",
    "    elif len(faces)==1:\n",
    "        face = faces[0]\n",
    "    else:\n",
    "        return []\n",
    "\n",
    "    front_face = image[face.top():face.bottom(),face.left():face.right()]\n",
    "    if 0 in front_face.shape:\n",
    "        return []\n",
    "    front_face = cv2.resize(front_face, dsize=(200,200))\n",
    "    front_face = cv2.cvtColor(front_face.astype('uint8'), cv2.COLOR_BGR2RGB)\n",
    "    return front_face"
   ]
  },
  {
   "cell_type": "code",
   "execution_count": 3,
   "metadata": {},
   "outputs": [],
   "source": [
    "facial_features_cordinates = {}\n",
    "\n",
    "# define a dictionary that maps the indexes of the facial\n",
    "# landmarks to specific face regions\n",
    "FACIAL_LANDMARKS_INDEXES = OrderedDict([\n",
    "    (\"Mouth\", (48, 68)),\n",
    "    (\"Right_Eyebrow\", (17, 22)),\n",
    "    (\"Left_Eyebrow\", (22, 27)),\n",
    "    (\"Right_Eye\", (36, 42)),\n",
    "    (\"Left_Eye\", (42, 48)),\n",
    "    (\"Nose\", (27, 35)),\n",
    "    (\"Jaw\", (0, 17))\n",
    "])"
   ]
  },
  {
   "cell_type": "code",
   "execution_count": 4,
   "metadata": {},
   "outputs": [],
   "source": [
    "def visualize_facial_landmarks(image, shape, colors=None, alpha=0.75):\n",
    "    # create two copies of the input image -- one for the\n",
    "    # overlay and one for the final output image\n",
    "    overlay = image.copy()\n",
    "    output = image.copy()\n",
    "\n",
    "    # if the colors list is None, initialize it with a unique\n",
    "    # color for each facial landmark region\n",
    "    if colors is None:\n",
    "        colors = [(19, 199, 109), (79, 76, 240), (230, 159, 23),\n",
    "                  (168, 100, 168), (158, 163, 32),\n",
    "                  (163, 38, 32), (180, 42, 220)]\n",
    "\n",
    "    # loop over the facial landmark regions individually\n",
    "    for (i, name) in enumerate(FACIAL_LANDMARKS_INDEXES.keys()):\n",
    "        # grab the (x, y)-coordinates associated with the\n",
    "        # face landmark\n",
    "        (j, k) = FACIAL_LANDMARKS_INDEXES[name]\n",
    "        pts = shape[j:k]\n",
    "        facial_features_cordinates[name] = pts\n",
    "\n",
    "        # check if are supposed to draw the jawline\n",
    "        if name == \"Jaw\":\n",
    "            # since the jawline is a non-enclosed facial region,\n",
    "            # just draw lines between the (x, y)-coordinates\n",
    "            for l in range(1, len(pts)):\n",
    "                ptA = tuple(pts[l - 1])\n",
    "                ptB = tuple(pts[l])\n",
    "                cv2.line(overlay, ptA, ptB, colors[i], 2)\n",
    "\n",
    "        # otherwise, compute the convex hull of the facial\n",
    "        # landmark coordinates points and display it\n",
    "        else:\n",
    "            hull = cv2.convexHull(pts)\n",
    "            cv2.drawContours(overlay, [hull], -1, colors[i], -1)\n",
    "\n",
    "    # apply the transparent overlay\n",
    "    cv2.addWeighted(overlay, alpha, output, 1 - alpha, 0, output)\n",
    "\n",
    "    # return the output image\n",
    "    return output,facial_features_cordinates"
   ]
  },
  {
   "cell_type": "code",
   "execution_count": 5,
   "metadata": {},
   "outputs": [],
   "source": [
    "def shape_to_numpy_array(shape, dtype=\"int\"):\n",
    "    # initialize the list of (x, y)-coordinates\n",
    "    coordinates = np.zeros((68, 2), dtype=dtype)\n",
    "\n",
    "    # loop over the 68 facial landmarks and convert them\n",
    "    # to a 2-tuple of (x, y)-coordinates\n",
    "    for i in range(0, 68):\n",
    "        coordinates[i] = (shape.part(i).x, shape.part(i).y)\n",
    "\n",
    "    # return the list of (x, y)-coordinates\n",
    "    return coordinates"
   ]
  },
  {
   "cell_type": "code",
   "execution_count": 27,
   "metadata": {},
   "outputs": [],
   "source": [
    "detector = dlib.get_frontal_face_detector()\n",
    "predictor = dlib.shape_predictor('shape_predictor_68_face_landmarks.dat')"
   ]
  },
  {
   "cell_type": "markdown",
   "metadata": {},
   "source": [
    "# 2. Load images"
   ]
  },
  {
   "cell_type": "code",
   "execution_count": 6,
   "metadata": {},
   "outputs": [],
   "source": [
    "root_dir = '/home/dxlab/jupyter/soyoung/racist_model/racialData'\n",
    "citizen_test = np.load(root_dir+'/test_set/test_citizen_white_to_black/img_path.npy')\n",
    "mugshot_test = np.load(root_dir+'/test_set/test_mugshot_black_to_white/img_path.npy')\n",
    "\n",
    "frontal_ctz_dir = '/frontal_face_set/citizen'\n",
    "frontal_mgs_dir = '/frontal_face_set/mugshot'\n",
    "\n",
    "citizen_test = list(citizen_test)\n",
    "for i in range(len(citizen_test)):\n",
    "    citizen_test[i] = frontal_ctz_dir+'/'+citizen_test[i]\n",
    "    \n",
    "mugshot_test = list(mugshot_test)\n",
    "for i in range(len(mugshot_test)):\n",
    "    mugshot_test[i] = frontal_mgs_dir+'/'+mugshot_test[i]+'.jpg'    "
   ]
  },
  {
   "cell_type": "code",
   "execution_count": 7,
   "metadata": {},
   "outputs": [],
   "source": [
    "#for same directory name\n",
    "for i,ctz in enumerate(citizen_test):\n",
    "    if len((ctz.split('/')[3]).split('.')[0])<6:\n",
    "        citizen_test[i] = root_dir+'/citizen2/train/' + ctz.split('/')[3]\n",
    "    else:\n",
    "        citizen_test[i] = root_dir+'/citizen/' + ctz.split('/')[3]"
   ]
  },
  {
   "cell_type": "markdown",
   "metadata": {},
   "source": [
    "# 3. Change Nose, Lip, Skin tone -> Citizen White to Black"
   ]
  },
  {
   "cell_type": "code",
   "execution_count": 8,
   "metadata": {},
   "outputs": [],
   "source": [
    "from skin.skinDetection import change_skin\n",
    "from skin.noFaceSkinDetection import obtain_skin_color\n",
    "from skin.faceDetection import get_skin_color"
   ]
  },
  {
   "cell_type": "code",
   "execution_count": 9,
   "metadata": {},
   "outputs": [],
   "source": [
    "#white, black average skin rgb value\n",
    "white_skin = (255,226,214)\n",
    "black_skin =  (79,48,25) #b g r"
   ]
  },
  {
   "cell_type": "code",
   "execution_count": 10,
   "metadata": {},
   "outputs": [],
   "source": [
    "#change skin tone\n",
    "\n",
    "def skin_tone_change(path, color):\n",
    "    changed = change_skin(path, color , '')\n",
    "    if len(changed) == 0:\n",
    "        return []\n",
    "\n",
    "    image = Image.open(io.BytesIO(changed))\n",
    "    temp = image.resize((200,200))\n",
    "\n",
    "    original = Image.open(path)\n",
    "    original = original.resize((200,200))\n",
    "\n",
    "    if image==None:\n",
    "        return []\n",
    "\n",
    "    #if nothig changed\n",
    "    if np.sum(np.array(original)-np.array(temp))==0: \n",
    "        return []\n",
    "    \n",
    "    return np.array(image)"
   ]
  },
  {
   "cell_type": "code",
   "execution_count": 11,
   "metadata": {},
   "outputs": [],
   "source": [
    "def white_to_black_nose(img):\n",
    "    image = img.copy()\n",
    "    gray = cv2.cvtColor(image, cv2.COLOR_BGR2GRAY)\n",
    "    rects = detector(gray, 1)\n",
    "    if len(rects)==0:\n",
    "        return []\n",
    "    \n",
    "    # loop over the face detections\n",
    "    for (i, rect) in enumerate(rects):\n",
    "        # determine the facial landmarks for the face region, then\n",
    "        # convert the landmark (x, y)-coordinates to a NumPy array\n",
    "        shape = predictor(gray, rect)\n",
    "        shape = shape_to_numpy_array(shape)\n",
    "\n",
    "        output,facial_features_cordinates = visualize_facial_landmarks(image, shape)\n",
    "\n",
    "    im = image.copy()\n",
    "  \n",
    "    # 1. widen nose\n",
    "    nose = facial_features_cordinates['Nose']\n",
    "    x1 = np.min(nose[:,0])\n",
    "    x2 = np.max(nose[:,0])\n",
    "    y1 = np.min(nose[:,1])\n",
    "    y2 = np.max(nose[:,1])\n",
    "    x1-=8\n",
    "    x2+=8\n",
    "    y1+=15\n",
    "    \n",
    "\n",
    "    roi = im[y1:y2, x1:x2]\n",
    "    \n",
    "    if len(roi) == 0:\n",
    "        x1+=8\n",
    "        x2-=8\n",
    "        y1-=15\n",
    "        roi = im[y1:y2, x1:x2]\n",
    "        if len(roi) == 0:\n",
    "            return []\n",
    "    \n",
    "    resize_roi = cv2.resize(roi, None, fx = 1.5, fy = 1, interpolation = cv2.INTER_CUBIC) #indentation wrong\n",
    "    \n",
    "    newimg_res = im.copy()\n",
    "    center_x = (x1 + x2)  /2\n",
    "    center_y = (y1 + y2)  /2\n",
    "    new_nose_half_w = resize_roi.shape[1] / 2\n",
    "    newimg_res[y1:y2, int(center_x-new_nose_half_w):int(center_x+new_nose_half_w)] = resize_roi\n",
    "    \n",
    "    # 2. blur appended part\n",
    "    appended_l = newimg_res[y1:y2, int(center_x-new_nose_half_w)-5:int(center_x-new_nose_half_w)+3].copy()\n",
    "    appended_r = newimg_res[y1:y2, int(center_x+new_nose_half_w)-3:int(center_x+new_nose_half_w)+5].copy()\n",
    "    if len(appended_l)==0 or len(appended_r)==0:\n",
    "        return []\n",
    "\n",
    "    try:\n",
    "        for i in range(5):\n",
    "            appended_l = cv2.GaussianBlur(appended_l, (5,5), 0)\n",
    "            appended_r = cv2.GaussianBlur(appended_r, (5,5), 0)\n",
    "    except:\n",
    "        return []\n",
    "\n",
    "    newimg_res[y1:y2, int(center_x-new_nose_half_w)-5:int(center_x-new_nose_half_w)+3] = appended_l\n",
    "    newimg_res[y1:y2, int(center_x+new_nose_half_w)-3:int(center_x+new_nose_half_w)+5] = appended_r\n",
    "\n",
    "    \n",
    "    kernel_sharpen_1 = np.array([[-1,-1,-1],[-1,9,-1],[-1,-1,-1]])\n",
    "    \n",
    "    # 3. blur whole part\n",
    "    newimg_res = cv2.GaussianBlur(newimg_res,(5,5),0)\n",
    "    newimg_res = cv2.GaussianBlur(newimg_res,(5,5),0)\n",
    "    newimg_res = cv2.GaussianBlur(newimg_res,(5,5),0)\n",
    "    \n",
    "    # 4. image sharpening\n",
    "    newimg_res = cv2.filter2D(newimg_res,-1,kernel_sharpen_1)\n",
    "    newimg_res = cv2.cvtColor(newimg_res.astype('uint8'), cv2.COLOR_BGR2RGB)\n",
    "    \n",
    "    return newimg_res"
   ]
  },
  {
   "cell_type": "code",
   "execution_count": 12,
   "metadata": {},
   "outputs": [],
   "source": [
    "def white_to_black_lip(img):\n",
    "    image = img.copy()\n",
    "    gray = cv2.cvtColor(image, cv2.COLOR_BGR2GRAY)\n",
    "    rects = detector(gray, 1)\n",
    "    if len(rects)==0:\n",
    "        return []\n",
    "    \n",
    "    # loop over the face detections\n",
    "    for (i, rect) in enumerate(rects):\n",
    "        # determine the facial landmarks for the face region, then\n",
    "        # convert the landmark (x, y)-coordinates to a NumPy array\n",
    "        shape = predictor(gray, rect)\n",
    "        shape = shape_to_numpy_array(shape)\n",
    "\n",
    "        output,facial_features_cordinates = visualize_facial_landmarks(image, shape)\n",
    "\n",
    "    im = image.copy()\n",
    "    \n",
    "    # 1. widen lip\n",
    "    Mouth = facial_features_cordinates['Mouth']\n",
    "    x_min = np.min(Mouth[:,0])\n",
    "    x_max = np.max(Mouth[:,0])\n",
    "    y_min = np.min(Mouth[:,1])\n",
    "    y_max = np.max(Mouth[:,1])\n",
    "    \n",
    "    lip = im[y_min:y_max, x_min:x_max]\n",
    "    resize_lip = cv2.resize(lip, None, fx = 1.2, fy = 1.6, interpolation = cv2.INTER_CUBIC) #indentation wrong\n",
    "    newimg_res = im.copy()\n",
    "    center_x = (x_min + x_max)  /2\n",
    "    center_y = (y_min + y_max)  /2\n",
    "    new_lip_half_h = resize_lip.shape[0] / 2\n",
    "    new_lip_half_w = resize_lip.shape[1] / 2\n",
    "\n",
    "    newimg_res[int(center_y-new_lip_half_h):int(center_y+new_lip_half_h),int(center_x-new_lip_half_w):int(center_x+new_lip_half_w)] = resize_lip\n",
    "    \n",
    "    # 2. blur appended part\n",
    "    appended_u = newimg_res[int(center_y-new_lip_half_h)-5:int(center_y-new_lip_half_h)+3,int(center_x-new_lip_half_w)-5:int(center_x+new_lip_half_w)+3 ].copy()\n",
    "    appended_d = newimg_res[int(center_y+new_lip_half_h)-3:int(center_y+new_lip_half_h)+5,int(center_x-new_lip_half_w)-3:int(center_x+new_lip_half_w)+5 ].copy()\n",
    "\n",
    "    for i in range(5):\n",
    "        appended_u = cv2.GaussianBlur(appended_u, (3,3), 0)\n",
    "        appended_d = cv2.GaussianBlur(appended_d, (3,3), 0)\n",
    "\n",
    "    newimg_res[int(center_y-new_lip_half_h)-5:int(center_y-new_lip_half_h)+3,int(center_x-new_lip_half_w)-5:int(center_x+new_lip_half_w)+3] = appended_u\n",
    "    newimg_res[int(center_y+new_lip_half_h)-3:int(center_y+new_lip_half_h)+5,int(center_x-new_lip_half_w)-3:int(center_x+new_lip_half_w)+5] = appended_d\n",
    "    \n",
    "    kernel_sharpen_1 = np.array([[-1,-1,-1],[-1,9,-1],[-1,-1,-1]])\n",
    "    \n",
    "    # 3. blur whole part\n",
    "    newimg_res = cv2.GaussianBlur(newimg_res,(5,5),0)\n",
    "    newimg_res = cv2.GaussianBlur(newimg_res,(5,5),0)\n",
    "    newimg_res = cv2.GaussianBlur(newimg_res,(5,5),0)\n",
    "    \n",
    "    # 4. image sharpening\n",
    "    newimg_res = cv2.filter2D(newimg_res,-1,kernel_sharpen_1)\n",
    "    newimg_res = cv2.cvtColor(newimg_res.astype('uint8'), cv2.COLOR_BGR2RGB)\n",
    "\n",
    "    return newimg_res"
   ]
  },
  {
   "cell_type": "markdown",
   "metadata": {},
   "source": [
    "# 3-1. Change Skin tone -> Citizen White to Black"
   ]
  },
  {
   "cell_type": "code",
   "execution_count": 13,
   "metadata": {},
   "outputs": [],
   "source": [
    "from tqdm.notebook import tqdm\n",
    "import io"
   ]
  },
  {
   "cell_type": "code",
   "execution_count": 26,
   "metadata": {},
   "outputs": [
    {
     "data": {
      "application/vnd.jupyter.widget-view+json": {
       "model_id": "30495e85008d48adad21f082bc04935b",
       "version_major": 2,
       "version_minor": 0
      },
      "text/plain": [
       "HBox(children=(HTML(value=''), FloatProgress(value=0.0, max=1894.0), HTML(value='')))"
      ]
     },
     "metadata": {},
     "output_type": "display_data"
    },
    {
     "name": "stdout",
     "output_type": "stream",
     "text": [
      "\n"
     ]
    }
   ],
   "source": [
    "#change skin tone to black -> crop face\n",
    "\n",
    "ctz_skin_changed = []\n",
    "ctz_skin_name = []\n",
    "\n",
    "for img in tqdm(citizen_test):\n",
    "    try:\n",
    "#         skin tone change to black\n",
    "        skin_chg_img = skin_tone_change(img, black_skin)\n",
    "    except:\n",
    "        continue\n",
    "    if len(skin_chg_img)==0:\n",
    "        continue\n",
    "    \n",
    "    try:\n",
    "        cropped = get_frontal_face(skin_chg_img)\n",
    "    except:\n",
    "        continue\n",
    "    if len(cropped)==0:\n",
    "        continue\n",
    "    ctz_skin_changed.append(cropped)\n",
    "    ctz_skin_name.append(img)"
   ]
  },
  {
   "cell_type": "code",
   "execution_count": 99,
   "metadata": {},
   "outputs": [
    {
     "data": {
      "text/plain": [
       "((1287, 200, 200, 3), (1287,))"
      ]
     },
     "execution_count": 99,
     "metadata": {},
     "output_type": "execute_result"
    }
   ],
   "source": [
    "ctz_skin_changed = np.array(ctz_skin_changed)\n",
    "ctz_skin_name = np.array(ctz_skin_name)\n",
    "ctz_skin_changed.shape, ctz_skin_name.shape"
   ]
  },
  {
   "cell_type": "code",
   "execution_count": 29,
   "metadata": {},
   "outputs": [],
   "source": [
    "np.save('./features_changed/ctz_blacked/ctz_skin_changed.npy', ctz_skin_changed)\n",
    "np.save('./features_changed/ctz_blacked/ctz_skin_used_name.npy', ctz_skin_name)"
   ]
  },
  {
   "cell_type": "code",
   "execution_count": 8,
   "metadata": {},
   "outputs": [],
   "source": [
    "ctz_skin_changed = np.load('./features_changed/ctz_blacked/ctz_skin_changed.npy')\n",
    "ctz_skin_name = np.load('./features_changed/ctz_blacked/ctz_skin_used_name.npy')"
   ]
  },
  {
   "cell_type": "code",
   "execution_count": 15,
   "metadata": {},
   "outputs": [],
   "source": [
    "# nothing changed or images that have to be removed\n",
    "x = '1 4 5 13 16 18 22 24 31 34 37 50 52 56 63 68 80 85 91 95 101 102 105 114 123 126 127 130 134 135 139 147 152 155 160 162 168 171 173 181 184 187 199 201 203 207 217 222 224 226 230 235 236 237 245 247 249 250 255 261 266 269 276 284 286 287 289 293 295 296 297 299 303 304 314 318 323 324 330 331 332 338 341 344 345 348 355 356 357 361 370 372 374 376 381 387 389 392 394 396 399 410 411 415 416 417 418 419 423 424 431 432 437 439 443 447 451 454 460 461 462 465 466 469 470 475 476 484 486 487 489 492 495 498 499 505 510 511 512 513 518 519 523 531 534 536 538 541 545 551 555 559 561 563 566 570 574 577 579 581 589 591 592 596 598 600 602 604 605 606 611 617 620 622 623 625 629 632 634 639 640 641 642 645 646 651 655 657 660 661 662 670 671 677 679 685 688 691 697 705 710 711 713 721 728 729 732 733 738 743 746 749 752 756 757 758 760 761 762 765 768 769 771 772 774 779 780 785 787 789 794 795 801 805 809 811 812 822 825 827 832 833 834 835 839 840 841 842 844 847 850 852 855 859 860 861 862 866 869 870 872 873 875 881 882 883 884 885 886 888 892 893 895 898 899 903 904 911 913 917 919 922 923 924 925 927 928 930 931 933 937 943 944 945 952 954 958 959 961 962 970 972 973 977 979 981 982 983 989 991 992 993 994 995 997 998 1001 1006 1012 1015 1019 1021 1023 1027 1028 1029 1036 1039 1041 1042 1045 1051 1052 1054 1056 1058 1059 1061 1062 1063 1068 1070 1073 1074 1077 1078 1080 1082 1084 1087 1089 1090 1092 1093 1097 1099 1104 1106 1110 1114 1115 1117 1120 1122 1126 1127 1128 1130 1135 1136 1137 1141 1143 1146 1148 1149 1151 1153 1154 1155 1158 1159 1161 1164 1167 1170 1171 1177 1180 1183 1187 1191 1192 1194 1195 1196 1201 1202 1206 1207 1209 1213 1216 1218 1222 1223 1224 1225 1231 1232 1233 1240 1242 1253 1258 1263 1265 1266 1271 1277 1278 1279 1281 1284 1285'"
   ]
  },
  {
   "cell_type": "code",
   "execution_count": 22,
   "metadata": {},
   "outputs": [],
   "source": [
    "no_face_idx = np.array(x.split(' ')).astype('int')"
   ]
  },
  {
   "cell_type": "code",
   "execution_count": 26,
   "metadata": {},
   "outputs": [
    {
     "data": {
      "application/vnd.jupyter.widget-view+json": {
       "model_id": "b90c96ff6b5c473dbb32a6426fb55288",
       "version_major": 2,
       "version_minor": 0
      },
      "text/plain": [
       "HBox(children=(HTML(value=''), FloatProgress(value=0.0, max=1287.0), HTML(value='')))"
      ]
     },
     "metadata": {},
     "output_type": "display_data"
    },
    {
     "name": "stdout",
     "output_type": "stream",
     "text": [
      "\n"
     ]
    }
   ],
   "source": [
    "ctz_skin_changed_2 = []\n",
    "ctz_skin_name_2 = []\n",
    "for i in tqdm(range(len(ctz_skin_changed))):\n",
    "    if i not in no_face_idx:\n",
    "        ctz_skin_changed_2.append(ctz_skin_changed[i])\n",
    "        ctz_skin_name_2.append(ctz_skin_name[i])"
   ]
  },
  {
   "cell_type": "code",
   "execution_count": 51,
   "metadata": {},
   "outputs": [],
   "source": [
    "np.save('./features_changed/ctz_blacked/ctz_skin_changed_2.npy', ctz_skin_changed_2)\n",
    "np.save('./features_changed/ctz_blacked/ctz_skin_name_2.npy', ctz_skin_name_2)"
   ]
  },
  {
   "cell_type": "code",
   "execution_count": 130,
   "metadata": {},
   "outputs": [],
   "source": [
    "ctz_skin_changed_2 = np.load('./features_changed/ctz_blacked/ctz_skin_changed_2.npy')\n",
    "ctz_skin_name_2 = np.load('./features_changed/ctz_blacked/ctz_skin_name_2.npy')"
   ]
  },
  {
   "cell_type": "markdown",
   "metadata": {},
   "source": [
    "# 3-2. Change Nose shape -> Citizen White to Black"
   ]
  },
  {
   "cell_type": "code",
   "execution_count": 5,
   "metadata": {},
   "outputs": [
    {
     "name": "stdout",
     "output_type": "stream",
     "text": [
      "\n"
     ]
    }
   ],
   "source": [
    "#change nose shape like black -> crop face\n",
    "\n",
    "ctz_nose_changed = []\n",
    "ctz_nose_name = []\n",
    "\n",
    "for img in tqdm(ctz_skin_name_2):\n",
    "#     try:\n",
    "# #         skin tone change to black\n",
    "    image = cv2.imread(img)\n",
    "    nose_chg_img = white_to_black_nose(image)\n",
    "#     except:\n",
    "#         continue\n",
    "    if len(nose_chg_img)==0:\n",
    "        continue\n",
    "    \n",
    "    try:\n",
    "        cropped = get_frontal_face(nose_chg_img)\n",
    "    except:\n",
    "        continue\n",
    "    if len(cropped)==0:\n",
    "        continue\n",
    "    ctz_nose_changed.append(cropped)\n",
    "    ctz_nose_name.append(img)"
   ]
  },
  {
   "cell_type": "code",
   "execution_count": 91,
   "metadata": {},
   "outputs": [
    {
     "data": {
      "text/plain": [
       "((856, 200, 200, 3), (856,))"
      ]
     },
     "execution_count": 91,
     "metadata": {},
     "output_type": "execute_result"
    }
   ],
   "source": [
    "ctz_nose_changed = np.array(ctz_nose_changed)\n",
    "ctz_nose_name = np.array(ctz_nose_name)\n",
    "ctz_nose_changed.shape, ctz_nose_name.shape"
   ]
  },
  {
   "cell_type": "code",
   "execution_count": 90,
   "metadata": {},
   "outputs": [],
   "source": [
    "np.save('./features_changed/ctz_blacked/ctz_nose_changed.npy', ctz_nose_changed)\n",
    "np.save('./features_changed/ctz_blacked/ctz_nose_used_name.npy', ctz_nose_name)"
   ]
  },
  {
   "cell_type": "code",
   "execution_count": 110,
   "metadata": {},
   "outputs": [],
   "source": [
    "# nothing changed or images that have to be removed\n",
    "x = '5 223 224 235 348 424 433 719'"
   ]
  },
  {
   "cell_type": "code",
   "execution_count": 111,
   "metadata": {},
   "outputs": [
    {
     "data": {
      "application/vnd.jupyter.widget-view+json": {
       "model_id": "49290df59acc4109b54376d5928b6d5d",
       "version_major": 2,
       "version_minor": 0
      },
      "text/plain": [
       "HBox(children=(HTML(value=''), FloatProgress(value=0.0, max=856.0), HTML(value='')))"
      ]
     },
     "metadata": {},
     "output_type": "display_data"
    },
    {
     "name": "stdout",
     "output_type": "stream",
     "text": [
      "\n"
     ]
    }
   ],
   "source": [
    "no_face_idx_2 = np.array(x.split(' ')).astype('int')\n",
    "ctz_nose_changed_2 = []\n",
    "ctz_nose_name_2 = []\n",
    "for i in tqdm(range(len(ctz_nose_changed))):\n",
    "    if i not in no_face_idx_2:\n",
    "        ctz_nose_changed_2.append(ctz_nose_changed[i])\n",
    "        ctz_nose_name_2.append(ctz_nose_name[i])"
   ]
  },
  {
   "cell_type": "code",
   "execution_count": 117,
   "metadata": {},
   "outputs": [],
   "source": [
    "np.save('./features_changed/ctz_blacked/ctz_nose_changed_2.npy', ctz_nose_changed_2)\n",
    "np.save('./features_changed/ctz_blacked/ctz_nose_name_2.npy', ctz_nose_name_2)"
   ]
  },
  {
   "cell_type": "code",
   "execution_count": 129,
   "metadata": {},
   "outputs": [],
   "source": [
    "ctz_nose_changed_2 = np.load('./features_changed/ctz_blacked/ctz_nose_changed_2.npy')\n",
    "ctz_nose_name_2 = np.load('./features_changed/ctz_blacked/ctz_nose_name_2.npy')"
   ]
  },
  {
   "cell_type": "markdown",
   "metadata": {},
   "source": [
    "# 3-3. Change Lip shape -> Citizen White to Black"
   ]
  },
  {
   "cell_type": "code",
   "execution_count": 87,
   "metadata": {},
   "outputs": [
    {
     "data": {
      "application/vnd.jupyter.widget-view+json": {
       "model_id": "d16e2db7720544a2986edc04e62649b1",
       "version_major": 2,
       "version_minor": 0
      },
      "text/plain": [
       "HBox(children=(HTML(value=''), FloatProgress(value=0.0, max=862.0), HTML(value='')))"
      ]
     },
     "metadata": {},
     "output_type": "display_data"
    },
    {
     "name": "stdout",
     "output_type": "stream",
     "text": [
      "\n"
     ]
    }
   ],
   "source": [
    "#change lip shape like black -> crop face\n",
    "\n",
    "ctz_lip_changed = []\n",
    "ctz_lip_name = []\n",
    "\n",
    "for img in tqdm(ctz_skin_name_2):\n",
    "#     try:\n",
    "# #         skin tone change to black\n",
    "    image = cv2.imread(img)\n",
    "    lip_chg_img = white_to_black_lip(image)\n",
    "#     except:\n",
    "#         continue\n",
    "    if len(lip_chg_img)==0:\n",
    "        continue\n",
    "    \n",
    "    try:\n",
    "        cropped = get_frontal_face(lip_chg_img)\n",
    "    except:\n",
    "        continue\n",
    "    if len(cropped)==0:\n",
    "        continue\n",
    "    ctz_lip_changed.append(cropped)\n",
    "    ctz_lip_name.append(img)"
   ]
  },
  {
   "cell_type": "code",
   "execution_count": 88,
   "metadata": {},
   "outputs": [
    {
     "data": {
      "text/plain": [
       "((859, 200, 200, 3), (859,))"
      ]
     },
     "execution_count": 88,
     "metadata": {},
     "output_type": "execute_result"
    }
   ],
   "source": [
    "ctz_lip_changed = np.array(ctz_lip_changed)\n",
    "ctz_lip_name = np.array(ctz_lip_name)\n",
    "ctz_lip_changed.shape, ctz_lip_name.shape"
   ]
  },
  {
   "cell_type": "code",
   "execution_count": 89,
   "metadata": {},
   "outputs": [],
   "source": [
    "np.save('./features_changed/ctz_blacked/ctz_lip_changed.npy', ctz_lip_changed)\n",
    "np.save('./features_changed/ctz_blacked/ctz_lip_used_name.npy', ctz_lip_name)"
   ]
  },
  {
   "cell_type": "code",
   "execution_count": 129,
   "metadata": {},
   "outputs": [
    {
     "data": {
      "application/vnd.jupyter.widget-view+json": {
       "model_id": "29461cd822cf47e39f8b00e032f305b0",
       "version_major": 2,
       "version_minor": 0
      },
      "text/plain": [
       "HBox(children=(HTML(value=''), FloatProgress(value=0.0, max=859.0), HTML(value='')))"
      ]
     },
     "metadata": {},
     "output_type": "display_data"
    },
    {
     "name": "stdout",
     "output_type": "stream",
     "text": [
      "\n"
     ]
    }
   ],
   "source": [
    "x = '10 25 125 426 578'\n",
    "no_face_idx_3 = np.array(x.split(' ')).astype('int')\n",
    "ctz_lip_changed_2 = []\n",
    "ctz_lip_name_2 = []\n",
    "for i in tqdm(range(len(ctz_lip_changed))):\n",
    "    if i not in no_face_idx_3:\n",
    "        ctz_lip_changed_2.append(ctz_lip_changed[i])\n",
    "        ctz_lip_name_2.append(ctz_lip_name[i])"
   ]
  },
  {
   "cell_type": "code",
   "execution_count": 133,
   "metadata": {},
   "outputs": [],
   "source": [
    "np.save('./features_changed/ctz_blacked/ctz_lip_changed_2.npy', ctz_lip_changed_2)\n",
    "np.save('./features_changed/ctz_blacked/ctz_lip_name_2.npy', ctz_lip_name_2)"
   ]
  },
  {
   "cell_type": "code",
   "execution_count": 128,
   "metadata": {},
   "outputs": [],
   "source": [
    "ctz_lip_changed_2 = np.load('./features_changed/ctz_blacked/ctz_lip_changed_2.npy')\n",
    "ctz_lip_name_2 = np.load('./features_changed/ctz_blacked/ctz_lip_name_2.npy')"
   ]
  },
  {
   "cell_type": "markdown",
   "metadata": {},
   "source": [
    "# 3-4. Change Skin, Nose, Lip -> Citizen White to Black"
   ]
  },
  {
   "cell_type": "code",
   "execution_count": 64,
   "metadata": {},
   "outputs": [],
   "source": [
    "ctz_skin_changed = np.load('./features_changed/ctz_blacked/ctz_skin_changed.npy')\n",
    "ctz_skin_name = np.load('./features_changed/ctz_blacked/ctz_skin_used_name.npy')"
   ]
  },
  {
   "cell_type": "code",
   "execution_count": 81,
   "metadata": {},
   "outputs": [
    {
     "data": {
      "application/vnd.jupyter.widget-view+json": {
       "model_id": "b93c07dc2ae74e989d4be72a73a51512",
       "version_major": 2,
       "version_minor": 0
      },
      "text/plain": [
       "HBox(children=(HTML(value=''), FloatProgress(value=0.0, max=1287.0), HTML(value='')))"
      ]
     },
     "metadata": {},
     "output_type": "display_data"
    },
    {
     "name": "stdout",
     "output_type": "stream",
     "text": [
      "\n"
     ]
    }
   ],
   "source": [
    "ctz_total_changed = []\n",
    "ctz_total_name = []\n",
    "\n",
    "for img in tqdm(ctz_skin_name):\n",
    "    try:\n",
    "#         skin tone change to black\n",
    "        skin_chg_img = skin_tone_change(img, black_skin)\n",
    "    except:\n",
    "        continue\n",
    "        \n",
    "    if len(skin_chg_img)==0:\n",
    "        continue\n",
    "    \n",
    "    #change nose\n",
    "    nose_chg_img = white_to_black_nose(skin_chg_img)\n",
    "#     except:\n",
    "#         continue\n",
    "    if len(nose_chg_img)==0:\n",
    "        continue\n",
    "        \n",
    "    #change lip\n",
    "    lip_chg_img = white_to_black_lip(nose_chg_img)\n",
    "#     except:\n",
    "#         continue\n",
    "    if len(lip_chg_img)==0:\n",
    "        continue\n",
    "    \n",
    "    try:\n",
    "        \n",
    "        cropped = get_frontal_face(lip_chg_img)\n",
    "    except:\n",
    "        continue\n",
    "    if len(cropped)==0:\n",
    "        continue\n",
    "    ctz_total_changed.append(cropped)\n",
    "    ctz_total_name.append(img)"
   ]
  },
  {
   "cell_type": "code",
   "execution_count": 82,
   "metadata": {},
   "outputs": [
    {
     "data": {
      "text/plain": [
       "((1070, 200, 200, 3), (1070,))"
      ]
     },
     "execution_count": 82,
     "metadata": {},
     "output_type": "execute_result"
    }
   ],
   "source": [
    "ctz_total_changed = np.array(ctz_total_changed)\n",
    "ctz_total_name = np.array(ctz_total_name)\n",
    "ctz_total_changed.shape, ctz_total_name.shape"
   ]
  },
  {
   "cell_type": "code",
   "execution_count": 83,
   "metadata": {},
   "outputs": [],
   "source": [
    "np.save('./features_changed/ctz_blacked/ctz_total_changed.npy', ctz_total_changed)\n",
    "np.save('./features_changed/ctz_blacked/ctz_total_used_name.npy', ctz_total_name)"
   ]
  },
  {
   "cell_type": "code",
   "execution_count": 88,
   "metadata": {},
   "outputs": [
    {
     "data": {
      "application/vnd.jupyter.widget-view+json": {
       "model_id": "dd68e4ea1ea14188b58d38e8ec9f1591",
       "version_major": 2,
       "version_minor": 0
      },
      "text/plain": [
       "HBox(children=(HTML(value=''), FloatProgress(value=0.0, max=1070.0), HTML(value='')))"
      ]
     },
     "metadata": {},
     "output_type": "display_data"
    },
    {
     "name": "stdout",
     "output_type": "stream",
     "text": [
      "\n"
     ]
    }
   ],
   "source": [
    "#images that have to be removed\n",
    "x = '1 11 17 19 26 28 33 39 54 76 97 104 107 110 113 146 154 171 178 181 185 186 188 207 218 223 226 233 247 259 263 275 276 282 288 303 310 312 320 326 333 347 352 353 365 369 391 403 415 426 432 454 460 478 481 499 507 536 538 541 570 573 586 601 615 624 633 643 650 657 661 674 675 683 696 698 701 704 721 733 737 754 760 762 775 777 782 793 813 820 822 824 827 845 850 872 874 880 883 889 904 907 930 932 943 952 954 955 959 965 979 999 1005 1008 1013 1014 1015 1028 1030 1041 1046 1052 1053 1064 1068'\n",
    "no_face_idx = np.array(x.split(' ')).astype('int')\n",
    "ctz_total_changed_2 = []\n",
    "ctz_total_name_2 = []\n",
    "for i in tqdm(range(len(ctz_total_changed))):\n",
    "    if i not in no_face_idx:\n",
    "        ctz_total_changed_2.append(ctz_total_changed[i])\n",
    "        ctz_total_name_2.append(ctz_total_name[i])"
   ]
  },
  {
   "cell_type": "code",
   "execution_count": 89,
   "metadata": {},
   "outputs": [
    {
     "data": {
      "text/plain": [
       "((945, 200, 200, 3), (945,))"
      ]
     },
     "execution_count": 89,
     "metadata": {},
     "output_type": "execute_result"
    }
   ],
   "source": [
    "ctz_total_changed_2 = np.array(ctz_total_changed_2)\n",
    "ctz_total_name_2 = np.array(ctz_total_name_2)\n",
    "ctz_total_changed_2.shape, ctz_total_name_2.shape"
   ]
  },
  {
   "cell_type": "code",
   "execution_count": 131,
   "metadata": {},
   "outputs": [],
   "source": [
    "#we are going to use images included in 3 changed test set\n",
    "ctz_name_final = set(ctz_skin_name_2) & set(ctz_nose_name_2) & set(ctz_lip_name_2) &set(ctz_total_name_2)"
   ]
  },
  {
   "cell_type": "code",
   "execution_count": 133,
   "metadata": {},
   "outputs": [],
   "source": [
    "ctz_name_final = random.sample(list(ctz_name_final), 700)"
   ]
  },
  {
   "cell_type": "code",
   "execution_count": 135,
   "metadata": {},
   "outputs": [],
   "source": [
    "ctz_skin_changed_3 = []\n",
    "ctz_skin_name_3 = []\n",
    "\n",
    "for i, img in enumerate(ctz_skin_name_2):\n",
    "    if img in ctz_name_final:\n",
    "        ctz_skin_changed_3.append(ctz_skin_changed_2[i])\n",
    "        ctz_skin_name_3.append(img)"
   ]
  },
  {
   "cell_type": "code",
   "execution_count": 136,
   "metadata": {},
   "outputs": [],
   "source": [
    "ctz_nose_changed_3 = []\n",
    "ctz_nose_name_3 = []\n",
    "\n",
    "for i, img in enumerate(ctz_nose_name_2):\n",
    "    if img in ctz_name_final:\n",
    "        ctz_nose_changed_3.append(ctz_nose_changed_2[i])\n",
    "        ctz_nose_name_3.append(img)"
   ]
  },
  {
   "cell_type": "code",
   "execution_count": 139,
   "metadata": {},
   "outputs": [],
   "source": [
    "ctz_lip_changed_3 = []\n",
    "ctz_lip_name_3 = []\n",
    "\n",
    "for i, img in enumerate(ctz_lip_name_2):\n",
    "    if img in ctz_name_final:\n",
    "        ctz_lip_changed_3.append(ctz_lip_changed_2[i])\n",
    "        ctz_lip_name_3.append(img)"
   ]
  },
  {
   "cell_type": "code",
   "execution_count": 140,
   "metadata": {},
   "outputs": [],
   "source": [
    "ctz_total_changed_3 = []\n",
    "ctz_total_name_3 = []\n",
    "\n",
    "for i, img in enumerate(ctz_total_name_2):\n",
    "    if img in ctz_name_final:\n",
    "        ctz_total_changed_3.append(ctz_total_changed_2[i])\n",
    "        ctz_total_name_3.append(img)"
   ]
  },
  {
   "cell_type": "code",
   "execution_count": 141,
   "metadata": {},
   "outputs": [
    {
     "data": {
      "text/plain": [
       "(700, 700, 700, 700)"
      ]
     },
     "execution_count": 141,
     "metadata": {},
     "output_type": "execute_result"
    }
   ],
   "source": [
    "len(ctz_skin_changed_3), len(ctz_nose_changed_3), len(ctz_lip_changed_3), len(ctz_total_changed_3)"
   ]
  },
  {
   "cell_type": "code",
   "execution_count": 143,
   "metadata": {},
   "outputs": [],
   "source": [
    "np.save('./features_changed/ctz_blacked/ctz_skin_changed_3_1.npy', np.array(ctz_skin_changed_3))\n",
    "np.save('./features_changed/ctz_blacked/ctz_skin_name_3_1.npy', np.array(ctz_skin_name_3))\n",
    "\n",
    "np.save('./features_changed/ctz_blacked/ctz_nose_changed_3_1.npy', np.array(ctz_nose_changed_3))\n",
    "np.save('./features_changed/ctz_blacked/ctz_nose_name_3_1.npy', np.array(ctz_nose_name_3))\n",
    "\n",
    "np.save('./features_changed/ctz_blacked/ctz_lip_changed_3_1.npy', np.array(ctz_lip_changed_3))\n",
    "np.save('./features_changed/ctz_blacked/ctz_lip_name_3_1.npy', np.array(ctz_lip_name_3))\n",
    "\n",
    "np.save('./features_changed/ctz_blacked/ctz_total_changed_3_1.npy', np.array(ctz_total_changed_3))\n",
    "np.save('./features_changed/ctz_blacked/ctz_total_name_3_1.npy', np.array(ctz_total_name_3))"
   ]
  },
  {
   "cell_type": "code",
   "execution_count": 95,
   "metadata": {},
   "outputs": [
    {
     "data": {
      "text/plain": [
       "<matplotlib.image.AxesImage at 0x7fcdc87cef90>"
      ]
     },
     "execution_count": 95,
     "metadata": {},
     "output_type": "execute_result"
    },
    {
     "data": {
      "image/png": "[encoded data removed]",
      "text/plain": [
       "<Figure size 432x288 with 1 Axes>"
      ]
     },
     "metadata": {
      "needs_background": "light"
     },
     "output_type": "display_data"
    }
   ],
   "source": [
    "image = Image.open(img_name[900])\n",
    "plt.imshow(image)"
   ]
  },
  {
   "cell_type": "code",
   "execution_count": 93,
   "metadata": {},
   "outputs": [
    {
     "data": {
      "image/png": "[encoded data removed]",
      "text/plain": [
       "<PIL.Image.Image image mode=RGB size=200x200 at 0x7FCDD80D62D0>"
      ]
     },
     "execution_count": 93,
     "metadata": {},
     "output_type": "execute_result"
    }
   ],
   "source": [
    "Image.fromarray(changed[900].astype('uint8'), 'RGB')"
   ]
  },
  {
   "cell_type": "markdown",
   "metadata": {},
   "source": [
    "# 4. Change Nose, Lip, Skin tone -> Mugshot Black to White"
   ]
  },
  {
   "cell_type": "code",
   "execution_count": 14,
   "metadata": {},
   "outputs": [],
   "source": [
    "#for same directory name\n",
    "for i,mgs in enumerate(mugshot_test):\n",
    "    mugshot_test[i] = root_dir + '/mugshot/front/front/' + mgs.split('/')[3]"
   ]
  },
  {
   "cell_type": "code",
   "execution_count": 23,
   "metadata": {},
   "outputs": [],
   "source": [
    "def black_to_white_nose(img):\n",
    "    image = img.copy()\n",
    "    gray = cv2.cvtColor(image, cv2.COLOR_BGR2GRAY)\n",
    "    rects = detector(gray, 1)\n",
    "    if len(rects)==0:\n",
    "        return []\n",
    "    \n",
    "    # loop over the face detections\n",
    "    for (i, rect) in enumerate(rects):\n",
    "        # determine the facial landmarks for the face region, then\n",
    "        # convert the landmark (x, y)-coordinates to a NumPy array\n",
    "        shape = predictor(gray, rect)\n",
    "        shape = shape_to_numpy_array(shape)\n",
    "\n",
    "        output,facial_features_cordinates = visualize_facial_landmarks(image, shape)\n",
    "\n",
    "    im = image.copy()\n",
    "  \n",
    "    # 1. narrow nose\n",
    "    nose = facial_features_cordinates['Nose']\n",
    "    x1 = np.min(nose[:,0])\n",
    "    x2 = np.max(nose[:,0])\n",
    "    y1 = np.min(nose[:,1])\n",
    "    y2 = np.max(nose[:,1])\n",
    "    \n",
    "    nose_part = im[:,x1:x2]\n",
    "    new_nose = cv2.resize(nose_part, None, fx = 0.5, fy = 1, interpolation = cv2.INTER_CUBIC) \n",
    "\n",
    "    \n",
    "    whited = np.concatenate((im[:,:x1], new_nose, + im[:,x2:]), axis=1)\n",
    "    \n",
    "    return whited"
   ]
  },
  {
   "cell_type": "code",
   "execution_count": 22,
   "metadata": {},
   "outputs": [],
   "source": [
    "def black_to_white_lip(img):\n",
    "    image = img.copy()\n",
    "    gray = cv2.cvtColor(image, cv2.COLOR_BGR2GRAY)\n",
    "    rects = detector(gray, 1)\n",
    "    if len(rects)==0:\n",
    "        return []\n",
    "    \n",
    "    # loop over the face detections\n",
    "    for (i, rect) in enumerate(rects):\n",
    "        # determine the facial landmarks for the face region, then\n",
    "        # convert the landmark (x, y)-coordinates to a NumPy array\n",
    "        shape = predictor(gray, rect)\n",
    "        shape = shape_to_numpy_array(shape)\n",
    "\n",
    "        output,facial_features_cordinates = visualize_facial_landmarks(image, shape)\n",
    "\n",
    "    im = image.copy()\n",
    "    \n",
    "    # 1. narrow lip\n",
    "    Mouth = facial_features_cordinates['Mouth']\n",
    "    x_min = np.min(Mouth[:,0])\n",
    "    x_max = np.max(Mouth[:,0])\n",
    "    y_min = np.min(Mouth[:,1])\n",
    "    y_max = np.max(Mouth[:,1])\n",
    "    \n",
    "    lip_part = im[y_min:y_max, :]\n",
    "    new_lip = cv2.resize(lip_part, None, fx = 1, fy = 0.6, interpolation = cv2.INTER_CUBIC) \n",
    "    \n",
    "    whited = np.concatenate((im[:y_min,:], new_lip, + im[y_max:,:]), axis=0)\n",
    "    \n",
    "    return whited"
   ]
  },
  {
   "cell_type": "code",
   "execution_count": 20,
   "metadata": {},
   "outputs": [],
   "source": [
    "#change both nose and lip\n",
    "def black_to_white(img):\n",
    "    image = img.copy()\n",
    "    gray = cv2.cvtColor(image, cv2.COLOR_BGR2GRAY)\n",
    "    rects = detector(gray, 1)\n",
    "    if len(rects)==0:\n",
    "        return []\n",
    "    \n",
    "    # loop over the face detections\n",
    "    for (i, rect) in enumerate(rects):\n",
    "        # determine the facial landmarks for the face region, then\n",
    "        # convert the landmark (x, y)-coordinates to a NumPy array\n",
    "        shape = predictor(gray, rect)\n",
    "        shape = shape_to_numpy_array(shape)\n",
    "\n",
    "        output,facial_features_cordinates = visualize_facial_landmarks(image, shape)\n",
    "\n",
    "    im = image.copy()\n",
    "  \n",
    "    # 1. narrow nose\n",
    "    nose = facial_features_cordinates['Nose']\n",
    "    x1 = np.min(nose[:,0])\n",
    "    x2 = np.max(nose[:,0])\n",
    "    y1 = np.min(nose[:,1])\n",
    "    y2 = np.max(nose[:,1])\n",
    "    \n",
    "    nose_part = im[:,x1:x2]\n",
    "    new_nose = cv2.resize(nose_part, None, fx = 0.5, fy = 1, interpolation = cv2.INTER_CUBIC) \n",
    "    \n",
    "    narrowed_nose = np.concatenate((im[:,:x1], new_nose, + im[:,x2:]), axis=1)\n",
    "    \n",
    "    # 2. narrow lip\n",
    "    Mouth = facial_features_cordinates['Mouth']\n",
    "    x_min = np.min(Mouth[:,0])\n",
    "    x_max = np.max(Mouth[:,0])\n",
    "    y_min = np.min(Mouth[:,1])\n",
    "    y_max = np.max(Mouth[:,1])\n",
    "    \n",
    "    lip_part = narrowed_nose[y_min:y_max, :]\n",
    "    new_lip = cv2.resize(lip_part, None, fx = 1, fy = 0.6, interpolation = cv2.INTER_CUBIC) \n",
    "    \n",
    "    whited = np.concatenate((narrowed_nose[:y_min,:], new_lip, + narrowed_nose[y_max:,:]), axis=0)\n",
    "    \n",
    "    return whited"
   ]
  },
  {
   "cell_type": "code",
   "execution_count": 102,
   "metadata": {
    "scrolled": true
   },
   "outputs": [
    {
     "data": {
      "application/vnd.jupyter.widget-view+json": {
       "model_id": "98617be5d7fa4b4ea7cea559964ccb7f",
       "version_major": 2,
       "version_minor": 0
      },
      "text/plain": [
       "HBox(children=(HTML(value=''), FloatProgress(value=0.0, max=1610.0), HTML(value='')))"
      ]
     },
     "metadata": {},
     "output_type": "display_data"
    },
    {
     "name": "stdout",
     "output_type": "stream",
     "text": [
      "\n"
     ]
    }
   ],
   "source": [
    "changed = []\n",
    "img_name = []\n",
    "\n",
    "for img in tqdm(mugshot_test):\n",
    "    try:\n",
    "        skin_chg_img = skin_tone_change(img, white_skin)\n",
    "    except:\n",
    "        continue\n",
    "    if len(skin_chg_img)==0:\n",
    "        continue\n",
    "    whited = black_to_white(skin_chg_img)\n",
    "    if len(whited)==0:\n",
    "        continue\n",
    "    changed.append(whited)\n",
    "    img_name.append(img)\n",
    "changed = np.delete(changed, (0,0), axis=0)"
   ]
  },
  {
   "cell_type": "markdown",
   "metadata": {},
   "source": [
    "# 4-1. Change Skin tone -> Mugshot Black to White"
   ]
  },
  {
   "cell_type": "code",
   "execution_count": 155,
   "metadata": {},
   "outputs": [
    {
     "data": {
      "application/vnd.jupyter.widget-view+json": {
       "model_id": "52a19beb31f742bcb2cf05517a094618",
       "version_major": 2,
       "version_minor": 0
      },
      "text/plain": [
       "HBox(children=(HTML(value=''), FloatProgress(value=0.0, max=1610.0), HTML(value='')))"
      ]
     },
     "metadata": {},
     "output_type": "display_data"
    },
    {
     "name": "stdout",
     "output_type": "stream",
     "text": [
      "\n"
     ]
    }
   ],
   "source": [
    "#change skin tone to white -> crop face\n",
    "\n",
    "mgs_skin_changed = []\n",
    "mgs_skin_name = []\n",
    "\n",
    "for img in tqdm(mugshot_test):\n",
    "    try:\n",
    "#         skin tone change to white\n",
    "        skin_chg_img = skin_tone_change(img, white_skin)\n",
    "    except:\n",
    "        continue\n",
    "    if len(skin_chg_img)==0:\n",
    "        continue\n",
    "    \n",
    "    try:\n",
    "        cropped = get_frontal_face(skin_chg_img)\n",
    "    except:\n",
    "        continue\n",
    "    if len(cropped)==0:\n",
    "        continue\n",
    "    mgs_skin_changed.append(cropped)\n",
    "    mgs_skin_name.append(img)"
   ]
  },
  {
   "cell_type": "code",
   "execution_count": 156,
   "metadata": {},
   "outputs": [
    {
     "data": {
      "text/plain": [
       "((1137, 200, 200, 3), (1137,))"
      ]
     },
     "execution_count": 156,
     "metadata": {},
     "output_type": "execute_result"
    }
   ],
   "source": [
    "mgs_skin_changed = np.array(mgs_skin_changed)\n",
    "mgs_skin_name = np.array(mgs_skin_name)\n",
    "mgs_skin_changed.shape, mgs_skin_name.shape"
   ]
  },
  {
   "cell_type": "code",
   "execution_count": 9,
   "metadata": {},
   "outputs": [],
   "source": [
    "x = '2 57 58 67 163 169 177 178 244 246 252 256 259 266 269 282 283 297 299 309 342 356 404 441 470 477 480 482 484 494 496 498 499 507 508 520 524 534 538 556 589 597 598 634 660 690 703 715 721 722 727 744 753 765 779 781 791 808 820 828 850 865 885 888 909 913 926 946 973 974 1017 1018 1029 1043 1074 1086 1106 1114 1126 1127 1134'"
   ]
  },
  {
   "cell_type": "code",
   "execution_count": 14,
   "metadata": {},
   "outputs": [
    {
     "data": {
      "application/vnd.jupyter.widget-view+json": {
       "model_id": "c78acc3d935e4cc8902c2ed99b70a630",
       "version_major": 2,
       "version_minor": 0
      },
      "text/plain": [
       "HBox(children=(HTML(value=''), FloatProgress(value=0.0, max=1137.0), HTML(value='')))"
      ]
     },
     "metadata": {},
     "output_type": "display_data"
    },
    {
     "name": "stdout",
     "output_type": "stream",
     "text": [
      "\n"
     ]
    }
   ],
   "source": [
    "no_face_idx = np.array(x.split(' ')).astype('int')\n",
    "\n",
    "mgs_skin_changed_2 = []\n",
    "mgs_skin_name_2 = []\n",
    "for i in tqdm(range(len(mgs_skin_changed))):\n",
    "    if i not in no_face_idx:\n",
    "        mgs_skin_changed_2.append(mgs_skin_changed[i])\n",
    "        mgs_skin_name_2.append(mgs_skin_name[i])"
   ]
  },
  {
   "cell_type": "markdown",
   "metadata": {},
   "source": [
    "# 4-2. Change Nose shape -> Mugshot Black to White"
   ]
  },
  {
   "cell_type": "code",
   "execution_count": 38,
   "metadata": {},
   "outputs": [
    {
     "data": {
      "application/vnd.jupyter.widget-view+json": {
       "model_id": "3d4e7d2eeb4c41358e48497cd5862446",
       "version_major": 2,
       "version_minor": 0
      },
      "text/plain": [
       "HBox(children=(HTML(value=''), FloatProgress(value=0.0, max=1056.0), HTML(value='')))"
      ]
     },
     "metadata": {},
     "output_type": "display_data"
    },
    {
     "name": "stdout",
     "output_type": "stream",
     "text": [
      "\n"
     ]
    }
   ],
   "source": [
    "#change nose shape like white -> crop face\n",
    "\n",
    "mgs_nose_changed = []\n",
    "mgs_nose_name = []\n",
    "\n",
    "for img in tqdm(mgs_skin_name_2):\n",
    "    image = cv2.imread(img)\n",
    "    nose_chg_img = black_to_white_nose(image)\n",
    "#     except:\n",
    "#         continue\n",
    "    if len(nose_chg_img)==0:\n",
    "        continue\n",
    "    \n",
    "    try:\n",
    "        cropped = get_frontal_face(nose_chg_img)\n",
    "    except:\n",
    "        continue\n",
    "    if len(cropped)==0:\n",
    "        continue\n",
    "#     cropped = cv2.cvtColor(cropped.astype('uint8'), cv2.COLOR_BGR2RGB)\n",
    "    mgs_nose_changed.append(cropped)\n",
    "    mgs_nose_name.append(img)"
   ]
  },
  {
   "cell_type": "code",
   "execution_count": 39,
   "metadata": {},
   "outputs": [
    {
     "data": {
      "text/plain": [
       "((1054, 200, 200, 3), (1054,))"
      ]
     },
     "execution_count": 39,
     "metadata": {},
     "output_type": "execute_result"
    }
   ],
   "source": [
    "mgs_nose_changed = np.array(mgs_nose_changed)\n",
    "mgs_nose_name = np.array(mgs_nose_name)\n",
    "mgs_nose_changed.shape, mgs_nose_name.shape"
   ]
  },
  {
   "cell_type": "markdown",
   "metadata": {},
   "source": [
    "# 4-3. Change Lip shape -> Mugshot Black to White"
   ]
  },
  {
   "cell_type": "code",
   "execution_count": 61,
   "metadata": {},
   "outputs": [
    {
     "data": {
      "application/vnd.jupyter.widget-view+json": {
       "model_id": "c81bf886e9ae484f90cfc1e2d75dab46",
       "version_major": 2,
       "version_minor": 0
      },
      "text/plain": [
       "HBox(children=(HTML(value=''), FloatProgress(value=0.0, max=1056.0), HTML(value='')))"
      ]
     },
     "metadata": {},
     "output_type": "display_data"
    },
    {
     "name": "stdout",
     "output_type": "stream",
     "text": [
      "\n"
     ]
    }
   ],
   "source": [
    "#change lip shape like black -> crop face\n",
    "\n",
    "mgs_lip_changed = []\n",
    "mgs_lip_name = []\n",
    "\n",
    "for img in tqdm(mgs_skin_name_2):\n",
    "#     try:\n",
    "# #         skin tone change to black\n",
    "    image = cv2.imread(img)\n",
    "    lip_chg_img = black_to_white_lip(image)\n",
    "#     except:\n",
    "#         continue\n",
    "    if len(lip_chg_img)==0:\n",
    "        continue\n",
    "    \n",
    "    try:\n",
    "        cropped = get_frontal_face(lip_chg_img)\n",
    "    except:\n",
    "        continue\n",
    "    if len(cropped)==0:\n",
    "        continue\n",
    "    cropped = cv2.cvtColor(cropped.astype('uint8'), cv2.COLOR_BGR2RGB)\n",
    "    mgs_lip_changed.append(cropped)\n",
    "    mgs_lip_name.append(img)"
   ]
  },
  {
   "cell_type": "code",
   "execution_count": 62,
   "metadata": {},
   "outputs": [
    {
     "data": {
      "text/plain": [
       "((1053, 200, 200, 3), (1053,))"
      ]
     },
     "execution_count": 62,
     "metadata": {},
     "output_type": "execute_result"
    }
   ],
   "source": [
    "mgs_lip_changed = np.array(mgs_lip_changed)\n",
    "mgs_lip_name = np.array(mgs_lip_name)\n",
    "mgs_lip_changed.shape, mgs_lip_name.shape"
   ]
  },
  {
   "cell_type": "markdown",
   "metadata": {},
   "source": [
    "# 4-4. Change Skin, Nose, Lip -> Mugshot Black to White"
   ]
  },
  {
   "cell_type": "code",
   "execution_count": 46,
   "metadata": {},
   "outputs": [],
   "source": [
    "mgs_skin_changed = np.load('./features_changed/mgs_whited/mgs_skin_changed.npy')\n",
    "mgs_skin_name = np.load('./features_changed/mgs_whited/mgs_skin_used_name.npy')"
   ]
  },
  {
   "cell_type": "code",
   "execution_count": 114,
   "metadata": {},
   "outputs": [
    {
     "data": {
      "application/vnd.jupyter.widget-view+json": {
       "model_id": "753c05aea0fe4e7a96ddc4786aa7d0c5",
       "version_major": 2,
       "version_minor": 0
      },
      "text/plain": [
       "HBox(children=(HTML(value=''), FloatProgress(value=0.0, max=1137.0), HTML(value='')))"
      ]
     },
     "metadata": {},
     "output_type": "display_data"
    },
    {
     "name": "stdout",
     "output_type": "stream",
     "text": [
      "\n"
     ]
    }
   ],
   "source": [
    "mgs_total_changed = []\n",
    "mgs_total_name = []\n",
    "\n",
    "for img in tqdm(mgs_skin_name):\n",
    "    try:\n",
    "#         skin tone change to black\n",
    "        skin_chg_img = skin_tone_change(img, white_skin)\n",
    "    except:\n",
    "        continue\n",
    "        \n",
    "    if len(skin_chg_img)==0:\n",
    "        continue\n",
    "    \n",
    "    #change nose & lip\n",
    "    changed = black_to_white(skin_chg_img)\n",
    "#     except:\n",
    "#         continue\n",
    "    if len(changed)==0:\n",
    "        continue\n",
    "\n",
    "    try:\n",
    "        cropped = get_frontal_face(changed)\n",
    "    except:\n",
    "        continue\n",
    "    if len(cropped)==0:\n",
    "        continue\n",
    "    mgs_total_changed.append(cropped)\n",
    "    mgs_total_name.append(img)"
   ]
  },
  {
   "cell_type": "code",
   "execution_count": 115,
   "metadata": {},
   "outputs": [
    {
     "data": {
      "text/plain": [
       "((1122, 200, 200, 3), (1122,))"
      ]
     },
     "execution_count": 115,
     "metadata": {},
     "output_type": "execute_result"
    }
   ],
   "source": [
    "mgs_total_changed = np.array(mgs_total_changed)\n",
    "mgs_total_name = np.array(mgs_total_name)\n",
    "mgs_total_changed.shape, mgs_total_name.shape"
   ]
  },
  {
   "cell_type": "code",
   "execution_count": 117,
   "metadata": {},
   "outputs": [
    {
     "data": {
      "application/vnd.jupyter.widget-view+json": {
       "model_id": "d35612429aa1426b8a16a5c2d4a306a3",
       "version_major": 2,
       "version_minor": 0
      },
      "text/plain": [
       "HBox(children=(HTML(value=''), FloatProgress(value=0.0, max=1122.0), HTML(value='')))"
      ]
     },
     "metadata": {},
     "output_type": "display_data"
    },
    {
     "name": "stdout",
     "output_type": "stream",
     "text": [
      "\n"
     ]
    }
   ],
   "source": [
    "x = '2 57 63 66 159 175 176 231 234 249 253 280 339 477 479 487 494 495 515 593 915 935 961 1014 1099 1112'\n",
    "\n",
    "no_face_idx = np.array(x.split(' ')).astype('int')\n",
    "mgs_total_changed_2 = []\n",
    "mgs_total_name_2 = []\n",
    "for i in tqdm(range(len(mgs_total_changed))):\n",
    "    if i not in no_face_idx:\n",
    "        mgs_total_changed_2.append(mgs_total_changed[i])\n",
    "        mgs_total_name_2.append(mgs_total_name[i])"
   ]
  },
  {
   "cell_type": "code",
   "execution_count": 118,
   "metadata": {},
   "outputs": [
    {
     "data": {
      "text/plain": [
       "((1096, 200, 200, 3), (1096,))"
      ]
     },
     "execution_count": 118,
     "metadata": {},
     "output_type": "execute_result"
    }
   ],
   "source": [
    "mgs_total_changed_2 = np.array(mgs_total_changed_2)\n",
    "mgs_total_name_2 = np.array(mgs_total_name_2)\n",
    "mgs_total_changed_2.shape, mgs_total_name_2.shape"
   ]
  },
  {
   "cell_type": "code",
   "execution_count": 108,
   "metadata": {},
   "outputs": [],
   "source": [
    "mgs_name_final = set(mgs_skin_name_2) & set(mgs_nose_name) & set(mgs_lip_name) &set(mgs_total_name_2)"
   ]
  },
  {
   "cell_type": "code",
   "execution_count": 109,
   "metadata": {},
   "outputs": [],
   "source": [
    "mgs_name_final = list(mgs_name_final)"
   ]
  },
  {
   "cell_type": "code",
   "execution_count": 118,
   "metadata": {},
   "outputs": [],
   "source": [
    "import random\n",
    "mgs_name_final = random.sample(mgs_name_final, 700)"
   ]
  },
  {
   "cell_type": "code",
   "execution_count": 120,
   "metadata": {},
   "outputs": [],
   "source": [
    "mgs_skin_changed_3 = []\n",
    "mgs_skin_name_3 = []\n",
    "\n",
    "for i, img in enumerate(mgs_skin_name_2):\n",
    "    if img in mgs_name_final:\n",
    "        mgs_skin_changed_3.append(mgs_skin_changed_2[i])\n",
    "        mgs_skin_name_3.append(img)"
   ]
  },
  {
   "cell_type": "code",
   "execution_count": 121,
   "metadata": {},
   "outputs": [],
   "source": [
    "mgs_nose_changed_3 = []\n",
    "mgs_nose_name_3 = []\n",
    "\n",
    "for i, img in enumerate(mgs_nose_name):\n",
    "    if img in mgs_name_final:\n",
    "        mgs_nose_changed_3.append(mgs_nose_changed[i])\n",
    "        mgs_nose_name_3.append(img)"
   ]
  },
  {
   "cell_type": "code",
   "execution_count": 122,
   "metadata": {},
   "outputs": [],
   "source": [
    "mgs_lip_changed_3 = []\n",
    "mgs_lip_name_3 = []\n",
    "\n",
    "for i, img in enumerate(mgs_lip_name):\n",
    "    if img in mgs_name_final:\n",
    "        mgs_lip_changed_3.append(mgs_lip_changed[i])\n",
    "        mgs_lip_name_3.append(img)"
   ]
  },
  {
   "cell_type": "code",
   "execution_count": 123,
   "metadata": {},
   "outputs": [],
   "source": [
    "mgs_total_changed_3 = []\n",
    "mgs_total_name_3 = []\n",
    "\n",
    "for i, img in enumerate(mgs_total_name_2):\n",
    "    if img in mgs_name_final:\n",
    "        mgs_total_changed_3.append(mgs_total_changed_2[i])\n",
    "        mgs_total_name_3.append(img)"
   ]
  },
  {
   "cell_type": "code",
   "execution_count": 124,
   "metadata": {},
   "outputs": [
    {
     "data": {
      "text/plain": [
       "(700, 700, 700, 700)"
      ]
     },
     "execution_count": 124,
     "metadata": {},
     "output_type": "execute_result"
    }
   ],
   "source": [
    "len(mgs_skin_changed_3), len(mgs_nose_changed_3), len(mgs_lip_changed_3), len(mgs_total_changed_3)"
   ]
  },
  {
   "cell_type": "code",
   "execution_count": 126,
   "metadata": {},
   "outputs": [],
   "source": [
    "np.save('./features_changed/mgs_whited/mgs_skin_changed_3_1.npy', np.array(mgs_skin_changed_3))\n",
    "np.save('./features_changed/mgs_whited/mgs_skin_name_3_1.npy', np.array(mgs_skin_name_3))\n",
    "\n",
    "np.save('./features_changed/mgs_whited/mgs_nose_changed_3_1.npy', np.array(mgs_nose_changed_3))\n",
    "np.save('./features_changed/mgs_whited/mgs_nose_name_3_1.npy', np.array(mgs_nose_name_3))\n",
    "\n",
    "np.save('./features_changed/mgs_whited/mgs_lip_changed_3_1.npy', np.array(mgs_lip_changed_3))\n",
    "np.save('./features_changed/mgs_whited/mgs_lip_name_3_1.npy', np.array(mgs_lip_name_3))\n",
    "\n",
    "np.save('./features_changed/mgs_whited/mgs_total_changed_3_1.npy', np.array(mgs_total_changed_3))\n",
    "np.save('./features_changed/mgs_whited/mgs_total_name_3_1.npy', np.array(mgs_total_name_3))"
   ]
  },
  {
   "cell_type": "markdown",
   "metadata": {},
   "source": [
    "# 5. Get Frontal Face of unchanged test set"
   ]
  },
  {
   "cell_type": "code",
   "execution_count": 154,
   "metadata": {},
   "outputs": [],
   "source": [
    "ctz_name_final = np.load('./features_changed/ctz_blacked/ctz_name_final.npy')"
   ]
  },
  {
   "cell_type": "code",
   "execution_count": 145,
   "metadata": {},
   "outputs": [
    {
     "data": {
      "application/vnd.jupyter.widget-view+json": {
       "model_id": "a6c6be1be9f840568dc238a74d02cac1",
       "version_major": 2,
       "version_minor": 0
      },
      "text/plain": [
       "HBox(children=(HTML(value=''), FloatProgress(value=0.0, max=700.0), HTML(value='')))"
      ]
     },
     "metadata": {},
     "output_type": "display_data"
    },
    {
     "name": "stdout",
     "output_type": "stream",
     "text": [
      "\n"
     ]
    }
   ],
   "source": [
    "frontal_ctz = np.empty((1,200, 200, 3), dtype=float)\n",
    "frontal_ctz_name = []\n",
    "for i in tqdm(range(len(ctz_name_final))):\n",
    "    path = ctz_name_final[i]\n",
    "    img = cv2.imread(path)\n",
    "    front_face = get_frontal_face(img.astype('uint8'))\n",
    "    if len(front_face)!=0:\n",
    "        frontal_ctz = np.append(frontal_ctz, front_face.reshape(1,200,200,3), axis=0)\n",
    "        frontal_ctz_name.append(ctz_name_final[i])\n",
    "frontal_ctz = np.delete(frontal_ctz, (0,0), axis=0)"
   ]
  },
  {
   "cell_type": "code",
   "execution_count": 146,
   "metadata": {},
   "outputs": [
    {
     "data": {
      "text/plain": [
       "(700, 200, 200, 3)"
      ]
     },
     "execution_count": 146,
     "metadata": {},
     "output_type": "execute_result"
    }
   ],
   "source": [
    "frontal_ctz.shape"
   ]
  },
  {
   "cell_type": "code",
   "execution_count": 147,
   "metadata": {},
   "outputs": [],
   "source": [
    "np.save('./frontal_ctz_original_3_1.npy', frontal_ctz)"
   ]
  },
  {
   "cell_type": "code",
   "execution_count": 170,
   "metadata": {},
   "outputs": [],
   "source": [
    "mgs_name_final = np.load('./features_changed/mgs_whited/mgs_name_final.npy')"
   ]
  },
  {
   "cell_type": "code",
   "execution_count": 177,
   "metadata": {},
   "outputs": [
    {
     "data": {
      "application/vnd.jupyter.widget-view+json": {
       "model_id": "1357689c27cb4c74a69e9def583e81ff",
       "version_major": 2,
       "version_minor": 0
      },
      "text/plain": [
       "HBox(children=(HTML(value=''), FloatProgress(value=0.0, max=700.0), HTML(value='')))"
      ]
     },
     "metadata": {},
     "output_type": "display_data"
    },
    {
     "name": "stdout",
     "output_type": "stream",
     "text": [
      "\n"
     ]
    }
   ],
   "source": [
    "frontal_mgs = np.empty((1,200, 200, 3), dtype=float)\n",
    "frontal_mgs_name = []\n",
    "for i in tqdm(range(len(mgs_total_name_3))):\n",
    "    path = mgs_total_name_3[i]\n",
    "    img = cv2.imread(path)\n",
    "    front_face = get_frontal_face(img.astype('uint8'))\n",
    "    if len(front_face)!=0:\n",
    "        frontal_mgs = np.append(frontal_mgs, front_face.reshape(1,200,200,3), axis=0)\n",
    "        frontal_mgs_name.append(mgs_total_name_3[i]) \n",
    "frontal_mgs = np.delete(frontal_mgs, (0,0), axis=0)"
   ]
  },
  {
   "cell_type": "code",
   "execution_count": 149,
   "metadata": {},
   "outputs": [],
   "source": [
    "np.save('./frontal_mgs_original_3_1.npy', frontal_mgs)"
   ]
  }
 ],
 "metadata": {
  "kernelspec": {
   "display_name": "Python 3",
   "language": "python",
   "name": "python3"
  },
  "language_info": {
   "codemirror_mode": {
    "name": "ipython",
    "version": 3
   },
   "file_extension": ".py",
   "mimetype": "text/x-python",
   "name": "python",
   "nbconvert_exporter": "python",
   "pygments_lexer": "ipython3",
   "version": "3.7.8"
  }
 },
 "nbformat": 4,
 "nbformat_minor": 4
}
